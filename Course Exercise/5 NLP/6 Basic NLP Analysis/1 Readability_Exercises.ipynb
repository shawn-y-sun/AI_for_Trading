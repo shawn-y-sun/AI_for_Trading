{
 "cells": [
  {
   "cell_type": "markdown",
   "metadata": {},
   "source": [
    "# Readability Exercise\n",
    "\n",
    "Welcome! Below you will implement two metrics for evaluating the readability of documents:\n",
    "\n",
    "1. Flesch–Kincaid readability Grade Index \n",
    "2. Gunning Fog Index\n",
    "\n",
    "The solutions are in [readability_solutions.py](./readability_solutions.py). You can also click the jupyter icon to see all the files in the folder.\n",
    "\n",
    "To load all the functions in the solutions, simply include `from solutions import *`"
   ]
  },
  {
   "cell_type": "markdown",
   "metadata": {},
   "source": [
    "## 0. Initialization\n",
    "\n",
    "Let's read-in our text files. We have three different texts files to play with: \n",
    "\n",
    "1. `physics.txt`: taken from a technical wikipedia article about a theoretical physics idea called [Supersymmetry](https://en.wikipedia.org/wiki/Supersymmetry)\n",
    "\n",
    "2. `APPL_10k_2017.txt`: the 2017 10-K Item IA for APPLE INC, taken from the EDGAR website\n",
    "\n",
    "3. `alice.txt`: Excerpts from \"Alice in Wonderland\", the novel is in the public domain and freely available"
   ]
  },
  {
   "cell_type": "code",
   "execution_count": 4,
   "metadata": {},
   "outputs": [
    {
     "name": "stdout",
     "output_type": "stream",
     "text": [
      "downloading 10-Ks item 1A for CIK = 0001065088 ...\n",
      "writing EBAY_10k_2017.txt...\n",
      "writing EBAY_10k_2016.txt...\n",
      "writing EBAY_10k_2015.txt...\n",
      "writing EBAY_10k_2014.txt...\n",
      "writing EBAY_10k_2013.txt...\n",
      "downloading 10-Ks item 1A for CIK = 0000320193 ...\n",
      "writing AAPL_10k_2017.txt...\n",
      "writing AAPL_10k_2016.txt...\n",
      "writing AAPL_10k_2015.txt...\n",
      "writing AAPL_10k_2014.txt...\n",
      "writing AAPL_10k_2013.txt...\n",
      "downloading 10-Ks item 1A for CIK = 0001310067 ...\n"
     ]
    }
   ],
   "source": [
    "# download some excerpts from 10-K files\n",
    "\n",
    "from download10k import get_files\n",
    "\n",
    "CIK = {'ebay': '0001065088', 'apple':'0000320193', 'sears': '0001310067'}\n",
    "get_files(CIK['ebay'], 'EBAY')\n",
    "get_files(CIK['apple'], 'AAPL')\n",
    "get_files(CIK['sears'], 'SHLDQ')"
   ]
  },
  {
   "cell_type": "code",
   "execution_count": 6,
   "metadata": {},
   "outputs": [
    {
     "data": {
      "text/plain": [
       "'The following discussion of risk factors contains forward-looking statements. These risk factors may be important to understanding other statements in this Form 10-K. The following information should be read in conjunction with Part II, Item 7, “Management’s Discussion and Analysis of Financial Condition and Results of Operations” and the consolidated financial statements and related notes in Part II, Item 8, “Financial Statements and Supplementary Data” of this Form 10-K. The business, financial condition and operating results of the Company can be affected by a number of factors, whether currently known or unknown, including but not limited to those described below, any one or more of which could, directly or indirectly, cause the Company’s actual financial condition and operating results to vary materially from past, or from anticipated future, financial condition and operating results. Any of these factors, in whole or in part, could materially and adversely affect the Company’s business, financial condition, operating results and stock price. Because of the following factors, as well as other factors affecting the Company’s financial condition and operating results, past financial performance should not be considered to be a reliable indicator of future performance, and investors should not use historical trends to anticipate results or trends in future periods. Global and regional economic conditions could materially adversely affect the Company. The Company’s operations and performance depend significantly on global and regional economic conditions. Uncertainty about global and regional economic conditions poses a risk as consumers and businesses may postpone spending in response to tighter credit, higher unemployment, financial market volatility, government austerity programs, negative financial news, declines in income or asset values and/or other factors. These worldwide and regional economic conditions could have a material adverse effect on demand for the Company’s products and services. Demand also could differ materially from the Company’s expectations as a result of currency fluctuations because the Company generally raises prices on goods and services sold outside the U.S. to correspond with the effect of a strengthening of the U.S. dollar. Other factors that could influence worldwide or regional demand include changes in fuel and other energy costs, conditions in the real estate and mortgage markets, unemployment, labor and healthcare costs, access to credit, consumer confidence and other macroeconomic factors affecting consumer spending behavior. These and other economic factors could materially adversely affect demand for the Company’s products and services.  In the event of financial turmoil affecting the banking system and financial markets, additional consolidation of the financial services industry, or significant financial service institution failures, there could be tightening in the credit markets, low liquidity and extreme volatility in fixed income, credit, currency and equity markets. This could have a number of effects on the Company’s business, including the insolvency or financial instability of outsourcing partners or suppliers or their inability to obtain credit to finance development and/or manufacture products resulting in product delays. inability of customers, including channel partners, to obtain credit to finance purchases of the Company’s products. failure of derivative counterparties and other financial institutions. and restrictions on the Company’s ability to issue new debt. Other income and expense also could vary materially from expectations depending on gains or losses realized on the sale or exchange of financial instruments. impairment charges resulting from revaluations of debt and equity securities and other investments. changes in interest rates. increases or decreases in cash balances. volatility in foreign exchange rates. and changes in fair value of derivative instruments. Increased volatility in the financial markets and overall economic uncertainty would increase the risk of the actual amounts realized in the future on the Company’s financial instruments differing significantly from the fair values currently assigned to them.  Global markets for the Company’s products and services are highly competitive and subject to rapid technological change, and the Company may be unable to compete effectively in these markets. The Company’s products and services compete in highly competitive global markets characterized by aggressive price cutting and resulting downward pressure on gross margins, frequent introduction of new products, short product life cycles, evolving industry standards, continual improvement in product price/performance characteristics, rapid adoption of technological and product advancements by competitors and price sensitivity on the part of consumers.  The Company’s ability to compete successfully depends heavily on its ability to ensure a continuing and timely introduction of innovative new products, services and technologies to the marketplace. The Company believes it is unique in that it designs and develops nearly the entire solution for its products, including the hardware, operating system, numerous software applications and related services. As a result, the Company must make significant investments in R&D. The Company currently holds a significant number of patents and copyrights and has registered and/or has applied to register numerous patents, trademarks and service marks. In contrast, many of the Company’s competitors seek to compete primarily through aggressive pricing and very low cost structures, and emulating the Company\\'s products and infringing on its intellectual property. If the Company is unable to continue to develop and sell innovative new products with attractive margins or if competitors infringe on the Company’s intellectual property, the Company’s ability to maintain a competitive advantage could be adversely affected. The Company markets certain mobile communication and media devices based on the iOS mobile operating system and also markets related services, including third-party digital content and applications. The Company faces substantial competition in these markets from companies that have significant technical, marketing, distribution and other resources, as well as established hardware, software and digital content supplier relationships. and the Company has a minority market share in the global smartphone market. Additionally, the Company faces significant price competition as competitors reduce their selling prices and attempt to imitate the Company’s product features and applications within their own products or, alternatively, collaborate with each other to offer solutions that are more competitive than those they currently offer. The Company competes with business models that provide content to users for free. The Company also competes with illegitimate means to obtain third-party digital content and applications. Some of the Company’s competitors have greater experience, product breadth and distribution channels than the Company. Because some current and potential competitors have substantial resources and/or experience and a lower cost structure, they may be able to provide products and services at little or no profit or even at a loss. The Company also expects competition to intensify as competitors attempt to imitate the Company’s approach to providing components seamlessly within their individual offerings or work collaboratively to offer integrated solutions. The Company’s financial condition and operating results depend substantially on the Company’s ability to continually improve iOS and iOS devices in order to maintain their functional and design advantages. The Company is the only authorized maker of hardware using macOS, which has a minority market share in the personal computer market. This market has been contracting and is dominated by computer makers using competing operating systems, most notably Windows. In the market for personal computers and accessories, the Company faces a significant number of competitors, many of which have broader product lines, lower priced products and a larger installed customer base. Historically, consolidation in this market has resulted in larger competitors. Price competition has been particularly intense as competitors have aggressively cut prices and lowered product margins. An increasing number of internet-enabled devices that include software applications and are smaller and simpler than traditional personal computers compete for market share with the Company’s existing products. The Company’s financial condition and operating results also depend on its ability to continually improve the Mac platform to maintain its functional and design advantages. There can be no assurance the Company will be able to continue to provide products and services that compete effectively.  To remain competitive and stimulate customer demand, the Company must successfully manage frequent product introductions and transitions. Due to the highly volatile and competitive nature of the industries in which the Company competes, the Company must continually introduce new products, services and technologies, enhance existing products and services, effectively stimulate customer demand for new and upgraded products and successfully manage the transition to these new and upgraded products. The success of new product introductions depends on a number of factors including, but not limited to, timely and successful product development, market acceptance, the Company’s ability to manage the risks associated with new product production ramp-up issues, the availability of application software for new products, the effective management of purchase commitments and inventory levels in line with anticipated product demand, the availability of products in appropriate quantities and at expected costs to meet anticipated demand and the risk that new products may have quality or other defects or deficiencies in the early stages of introduction. Accordingly, the Company cannot determine in advance the ultimate effect of new product introductions and transitions.  The Company depends on the performance of distributors, carriers and other resellers. The Company distributes its products through cellular network carriers, wholesalers, national and regional retailers and value-added resellers, many of whom distribute products from competing manufacturers. The Company also sells its products and third-party products in most of its major markets directly to education, enterprise and government customers and consumers and small and mid-sized businesses through its online and retail stores.  Some carriers providing cellular network service for iPhone subsidize users’ purchases of the device. There is no assurance that such subsidies will be continued at all or in the same amounts upon renewal of the Company’s agreements with these carriers or in agreements the Company enters into with new carriers.  Many resellers have been adversely affected in the past by weak economic conditions. The Company has invested and will continue to invest in programs to enhance reseller sales, including staffing selected resellers’ stores with Company employees and contractors, and improving product placement displays. These programs could require a substantial investment while providing no assurance of return or incremental revenue. The financial condition of these resellers could weaken, these resellers could stop distributing the Company’s products, or uncertainty regarding demand for some or all of the Company’s products could cause resellers to reduce their ordering and marketing of the Company’s products.  The Company faces substantial inventory and other asset risk in addition to purchase commitment cancellation risk. The Company records a write-down for product and component inventories that have become obsolete or exceed anticipated demand or net realizable value and accrues necessary cancellation fee reserves for orders of excess products and components. The Company also reviews its long-lived assets, including capital assets held at its suppliers’ facilities and inventory prepayments, for impairment whenever events or circumstances indicate the carrying amount of an asset may not be recoverable. If the Company determines that impairment has occurred, it records a write-down equal to the amount by which the carrying value of the assets exceeds its fair value. Although the Company believes its provisions related to inventory, capital assets, inventory prepayments and other assets and purchase commitments are currently adequate, no assurance can be given that the Company will not incur additional related charges given the rapid and unpredictable pace of product obsolescence in the industries in which the Company competes.  The Company must order components for its products and build inventory in advance of product announcements and shipments. Consistent with industry practice, components are normally acquired through a combination of purchase orders, supplier contracts and open orders, in each case based on projected demand. Manufacturing purchase obligations typically cover forecasted component and manufacturing requirements for periods up to 150 days. Because the Company’s markets are volatile, competitive and subject to rapid technology and price changes, there is a risk the Company will forecast incorrectly and order or produce excess or insufficient amounts of components or products, or not fully utilize firm purchase commitments.  Future operating results depend upon the Company’s ability to obtain components in sufficient quantities on commercially reasonable terms. Because the Company currently obtains components from single or limited sources, the Company is subject to significant supply and pricing risks. Many components, including those that are available from multiple sources, are at times subject to industry-wide shortages and significant commodity pricing fluctuations. While the Company has entered into agreements for the supply of many components, there can be no assurance that the Company will be able to extend or renew these agreements on similar terms, or at all. A number of suppliers of components may suffer from poor financial conditions, which can lead to business failure for the supplier or consolidation within a particular industry, further limiting the Company’s ability to obtain sufficient quantities of components on commercially reasonable terms. The effects of global or regional economic conditions on the Company’s suppliers, described in “Global and regional economic conditions could materially adversely affect the Company” above, also could affect the Company’s ability to obtain components. Therefore, the Company remains subject to significant risks of supply shortages and price increases.  The Company’s new products often utilize custom components available from only one source. When a component or product uses new technologies, initial capacity constraints may exist until the suppliers’ yields have matured or manufacturing capacity has increased. Continued availability of these components at acceptable prices, or at all, may be affected for any number of reasons, including if those suppliers decide to concentrate on the production of common components instead of components customized to meet the Company’s requirements. The supply of components for a new or existing product could be delayed or constrained, or a key manufacturing vendor could delay shipments of completed products to the Company.  The Company depends on component and product manufacturing and logistical services provided by outsourcing partners, many of which are located outside of the U.S. Substantially all of the Company’s manufacturing is performed in whole or in part by a few outsourcing partners located primarily in Asia. The Company has also outsourced much of its transportation and logistics management. While these arrangements may lower operating costs, they also reduce the Company’s direct control over production and distribution. It is uncertain what effect such diminished control will have on the quality or quantity of products or services, or the Company’s flexibility to respond to changing conditions. Although arrangements with these partners may contain provisions for warranty expense reimbursement, the Company may remain responsible to the consumer for warranty service in the event of product defects and could experience an unanticipated product defect or warranty liability. While the Company relies on its partners to adhere to its supplier code of conduct, material violations of the supplier code of conduct could occur.   The Company relies on sole-sourced outsourcing partners in the U.S., Asia and Europe to supply and manufacture many critical components, and on outsourcing partners primarily located in Asia, for final assembly of substantially all of the Company’s hardware products. Any failure of these partners to perform may have a negative impact on the Company’s cost or supply of components or finished goods. In addition, manufacturing or logistics in these locations or transit to final destinations may be disrupted for a variety of reasons including, but not limited to, natural and man-made disasters, information technology system failures, commercial disputes, military actions or economic, business, labor, environmental, public health, or political issues.  The Company has invested in manufacturing process equipment, much of which is held at certain of its outsourcing partners, and has made prepayments to certain of its suppliers associated with long-term supply agreements. While these arrangements help ensure the supply of components and finished goods, if these outsourcing partners or suppliers experience severe financial problems or other disruptions in their business, such continued supply could be reduced or terminated and the net realizable value of these assets could be negatively impacted. The Company’s products and services may experience quality problems from time to time that can result in decreased sales and operating margin and harm to the Company’s reputation. The Company sells complex hardware and software products and services that can contain design and manufacturing defects. Sophisticated operating system software and applications, such as those sold by the Company, often contain “bugs” that can unexpectedly interfere with the software’s intended operation. The Company’s online services may from time to time experience outages, service slowdowns, or errors. Defects may also occur in components and products the Company purchases from third parties. There can be no assurance the Company will be able to detect and fix all defects in the hardware, software and services it sells. Failure to do so could result in lost revenue, significant warranty and other expenses and harm to the Company’s reputation.  The Company relies on access to third-party digital content, which may not be available to the Company on commercially reasonable terms or at all. The Company contracts with numerous third parties to offer their digital content to customers. This includes the right to sell currently available music, movies, TV shows and books. The licensing or other distribution arrangements with these third parties are for relatively short terms and do not guarantee the continuation or renewal of these arrangements on reasonable terms, if at all. Some third-party content providers and distributors currently or in the future may offer competing products and services, and could take action to make it more difficult or impossible for the Company to license or otherwise distribute their content in the future. Other content owners, providers or distributors may seek to limit the Company’s access to, or increase the cost of, such content. The Company may be unable to continue to offer a wide variety of content at reasonable prices with acceptable usage rules, or continue to expand its geographic reach. Failure to obtain the right to make available third-party digital content, or to make available such content on commercially reasonable terms, could have a material adverse impact on the Company’s financial condition and operating results.  Some third-party digital content providers require the Company to provide digital rights management and other security solutions. If requirements change, the Company may have to develop or license new technology to provide these solutions. There is no assurance the Company will be able to develop or license such solutions at a reasonable cost and in a timely manner. In addition, certain countries have passed or may propose and adopt legislation that would force the Company to license its digital rights management, which could lessen the protection of content and subject it to piracy and also could negatively affect arrangements with the Company’s content providers. The Company’s future performance depends in part on support from third-party software developers. The Company believes decisions by customers to purchase its hardware products depend in part on the availability of third‐party software applications and services. There is no assurance that third-party developers will continue to develop and maintain software applications and services for the Company’s products. If third-party software applications and services cease to be developed and maintained for the Company’s products, customers may choose not to buy the Company’s products.  With respect to its Mac products, the Company believes the availability of third‐party software applications and services depends in part on the developers’ perception and analysis of the relative benefits of developing, maintaining and upgrading such software for the Company’s products compared to Windows-based products. This analysis may be based on factors such as the market position of the Company and its products, the anticipated revenue that may be generated, expected future growth of Mac sales and the costs of developing such applications and services. If the Company’s minority share of the global personal computer market causes developers to question the Mac’s prospects, developers could be less inclined to develop or upgrade software for the Company’s Mac products and more inclined to devote their resources to developing and upgrading software for the larger Windows market.  With respect to iOS devices, the Company relies on the continued availability and development of compelling and innovative software applications, which are distributed through a single distribution channel, the App Store. iOS devices are subject to rapid technological change, and, if third-party developers are unable to or choose not to keep up with this pace of change, third-party applications might not successfully operate and may result in dissatisfied customers. As with applications for the Company’s Mac products, the availability and development of these applications also depend on developers’ perceptions and analysis of the relative benefits of developing, maintaining or upgrading software for the Company’s iOS devices rather than its competitors’ platforms, such as Android. If developers focus their efforts on these competing platforms, the availability and quality of applications for the Company’s iOS devices may suffer.  The Company relies on access to third-party intellectual property, which may not be available to the Company on commercially reasonable terms or at all. Many of the Company’s products include third-party intellectual property, which requires licenses from those third parties. Based on past experience and industry practice, the Company believes such licenses generally can be obtained on reasonable terms. There is, however, no assurance that the necessary licenses can be obtained on acceptable terms or at all. Failure to obtain the right to use third-party intellectual property, or to use such intellectual property on commercially reasonable terms, could preclude the Company from selling certain products or otherwise have a material adverse impact on the Company’s financial condition and operating results.  The Company could be impacted by unfavorable results of legal proceedings, such as being found to have infringed on intellectual property rights. The Company is subject to various legal proceedings and claims that have not yet been fully resolved and that have arisen in the ordinary course of business, and additional claims may arise in the future. For example, technology companies, including many of the Company’s competitors, frequently enter into litigation based on allegations of patent infringement or other violations of intellectual property rights. In addition, patent holding companies seek to monetize patents they have purchased or otherwise obtained. The intellectual property rights claims against the Company have generally increased over time and may continue to increase. In particular, the Company\\'s cellular enabled products compete with products from mobile communication and media device companies that hold significant patent portfolios, and the Company has faced a significant number of patent claims against it. The Company is vigorously defending infringement actions in courts in a number of U.S. jurisdictions and before the U.S. International Trade Commission, as well as internationally in various countries. The plaintiffs in these actions frequently seek injunctions and substantial damages.  Regardless of the scope or validity of such patents or other intellectual property rights, or the merits of any claims by potential or actual litigants, the Company may have to engage in protracted litigation. If the Company is found to infringe one or more patents or other intellectual property rights, regardless of whether it can develop non-infringing technology, it may be required to pay substantial damages or royalties to a third-party, or it may be subject to a temporary or permanent injunction prohibiting the Company from marketing or selling certain products.   In certain cases, the Company may consider the desirability of entering into licensing agreements, although no assurance can be given that such licenses can be obtained on acceptable terms or that litigation will not occur. These licenses may also significantly increase the Company’s operating expenses.  Regardless of the merit of particular claims, litigation may be expensive, time-consuming, disruptive to the Company’s operations and distracting to management. In recognition of these considerations, the Company may enter into arrangements to settle litigation. In management’s opinion, there is not at least a reasonable possibility the Company may have incurred a material loss, or a material loss in excess of a recorded accrual, with respect to loss contingencies, including matters related to infringement of intellectual property rights. However, the outcome of litigation is inherently uncertain.  Although management considers the likelihood of such an outcome to be remote, if one or more legal matters were resolved against the Company in a reporting period for amounts in excess of management’s expectations, the Company’s consolidated financial statements for that reporting period could be materially adversely affected. Further, such an outcome could result in significant compensatory, punitive or trebled monetary damages, disgorgement of revenue or profits, remedial corporate measures or injunctive relief against the Company that could materially adversely affect its financial condition and operating results.  The Company is subject to laws and regulations worldwide, changes to which could increase the Company’s costs and individually or in the aggregate adversely affect the Company’s business. The Company is subject to laws and regulations affecting its domestic and international operations in a number of areas. These U.S. and foreign laws and regulations affect the Company’s activities including, but not limited to, in areas of labor, advertising, digital content, consumer protection, real estate, billing, e-commerce, promotions, quality of services, telecommunications, mobile communications and media, television, intellectual property ownership and infringement, tax, import and export requirements, anti-corruption, foreign exchange controls and cash repatriation restrictions, data privacy requirements, anti-competition, environmental, health and safety. By way of example, laws and regulations related to mobile communications and media devices in the many jurisdictions in which the Company operates are extensive and subject to change. Such changes could include, among others, restrictions on the production, manufacture, distribution and use of devices, locking devices to a carrier’s network, or mandating the use of devices on more than one carrier’s network. These devices are also subject to certification and regulation by governmental and standardization bodies, as well as by cellular network carriers for use on their networks. These certification processes are extensive and time consuming, and could result in additional testing requirements, product modifications, or delays in product shipment dates, or could preclude the Company from selling certain products.   Compliance with these laws, regulations and similar requirements may be onerous and expensive, and they may be inconsistent from jurisdiction to jurisdiction, further increasing the cost of compliance and doing business. Any such costs, which may rise in the future as a result of changes in these laws and regulations or in their interpretation, could individually or in the aggregate make the Company’s products and services less attractive to the Company’s customers, delay the introduction of new products in one or more regions, or cause the Company to change or limit its business practices. The Company has implemented policies and procedures designed to ensure compliance with applicable laws and regulations, but there can be no assurance that the Company’s employees, contractors, or agents will not violate such laws and regulations or the Company’s policies and procedures.  The Company’s business is subject to the risks of international operations. The Company derives a significant portion of its revenue and earnings from its international operations. Compliance with applicable U.S. and foreign laws and regulations, such as import and export requirements, anti-corruption laws, tax laws, foreign exchange controls and cash repatriation restrictions, data privacy requirements, environmental laws, labor laws and anti-competition regulations, increases the costs of doing business in foreign jurisdictions. Although the Company has implemented policies and procedures to comply with these laws and regulations, a violation by the Company’s employees, contractors, or agents could nevertheless occur. In some cases, compliance with the laws and regulations of one country could violate the laws and regulations of another country. Violations of these laws and regulations could materially adversely affect the Company’s brand, international growth efforts and business. The Company also could be significantly affected by other risks associated with international activities including, but not limited to, economic and labor conditions, increased duties, taxes and other costs and political instability. Margins on sales of the Company’s products in foreign countries, and on sales of products that include components obtained from foreign suppliers, could be materially adversely affected by international trade regulations, including duties, tariffs and antidumping penalties. The Company is also exposed to credit and collectability risk on its trade receivables with customers in certain international markets. There can be no assurance the Company can effectively limit its credit risk and avoid losses. The Company’s retail stores have required and will continue to require a substantial investment and commitment of resources and are subject to numerous risks and uncertainties. The Company’s retail stores have required substantial investment in equipment and leasehold improvements, information systems, inventory and personnel. The Company also has entered into substantial operating lease commitments for retail space. Certain stores have been designed and built to serve as high-profile venues to promote brand awareness and serve as vehicles for corporate sales and marketing activities. Because of their unique design elements, locations and size, these stores require substantially more investment than the Company’s more typical retail stores. Due to the high cost structure associated with the Company’s retail stores, a decline in sales or the closure or poor performance of individual or multiple stores could result in significant lease termination costs, write-offs of equipment and leasehold improvements and severance costs.  Many factors unique to retail operations, some of which are beyond the Company’s control, pose risks and uncertainties. These risks and uncertainties include, but are not limited to, macro-economic factors that could have an adverse effect on general retail activity, as well as the Company’s inability to manage costs associated with store construction and operation, the Company’s failure to manage relationships with its existing retail partners, more challenging environments in managing retail operations outside the U.S., costs associated with unanticipated fluctuations in the value of retail inventory, and the Company’s inability to obtain and renew leases in quality retail locations at a reasonable cost. Investment in new business strategies and acquisitions could disrupt the Company’s ongoing business and present risks not originally contemplated. The Company has invested, and in the future may invest, in new business strategies or acquisitions. Such endeavors may involve significant risks and uncertainties, including distraction of management from current operations, greater than expected liabilities and expenses, inadequate return of capital and unidentified issues not discovered in the Company’s due diligence. These new ventures are inherently risky and may not be successful.  The Company’s business and reputation may be impacted by information technology system failures or network disruptions. The Company may be subject to information technology system failures and network disruptions. These may be caused by natural disasters, accidents, power disruptions, telecommunications failures, acts of terrorism or war, computer viruses, physical or electronic break-ins, or other events or disruptions. System redundancy may be ineffective or inadequate, and the Company’s disaster recovery planning may not be sufficient for all eventualities. Such failures or disruptions could, among other things, prevent access to the Company’s online stores and services, preclude retail store transactions, compromise Company or customer data, and result in delayed or cancelled orders. System failures and disruptions could also impede the manufacturing and shipping of products, delivery of online services, transactions processing and financial reporting. There may be breaches of the Company’s information technology systems that materially damage business partner and customer relationships, curtail or otherwise adversely impact access to online stores and services, or subject the Company to significant reputational, financial, legal and operational consequences. The Company’s business requires it to use and store customer, employee and business partner personally identifiable information (“PII”). This may include, among other information, names, addresses, phone numbers, email addresses, contact preferences, tax identification numbers and payment account information. Although malicious attacks to gain access to PII affect many companies across various industries, the Company is at a relatively greater risk of being targeted because of its high profile and the amount of PII it manages.   The Company requires user names and passwords in order to access its information technology systems. The Company also uses encryption and authentication technologies designed to secure the transmission and storage of data and prevent access to Company data or accounts. As with all companies, these security measures are subject to third-party security breaches, employee error, malfeasance, faulty password management, or other irregularities. For example, third parties may attempt to fraudulently induce employees or customers into disclosing user names, passwords or other sensitive information, which may in turn be used to access the Company’s information technology systems. To help protect customers and the Company, the Company monitors accounts and systems for unusual activity and may freeze accounts under suspicious circumstances, which may result in the delay or loss of customer orders.  The Company devotes significant resources to network security, data encryption and other security measures to protect its systems and data, but these security measures cannot provide absolute security. To the extent the Company was to experience a breach of its systems and was unable to protect sensitive data, such a breach could materially damage business partner and customer relationships, and curtail or otherwise adversely impact access to online stores and services. Moreover, if a computer security breach affects the Company’s systems or results in the unauthorized release of PII, the Company’s reputation and brand could be materially damaged, use of the Company’s products and services could decrease, and the Company could be exposed to a risk of loss or litigation and possible liability. While the Company maintains insurance coverage that, subject to policy terms and conditions and subject to a significant self-insured retention, is designed to address certain aspects of cyber risks, such insurance coverage may be insufficient to cover all losses or all types of claims that may arise in the continually evolving area of cyber risk. The Company is also subject to payment card association rules and obligations under its contracts with payment card processors. Under these rules and obligations, if information is compromised, the Company could be liable to payment card issuers for associated expenses and penalties. In addition, if the Company fails to follow payment card industry security standards, even if no customer information is compromised, the Company could incur significant fines or experience a significant increase in payment card transaction costs. The Company’s business is subject to a variety of U.S. and international laws, rules, policies and other obligations regarding data protection. The Company is subject to federal, state and international laws relating to the collection, use, retention, security and transfer of PII. In many cases, these laws apply not only to third-party transactions, but also may restrict transfers of PII among the Company and its international subsidiaries. Several jurisdictions have passed laws in this area, and other jurisdictions are considering imposing additional restrictions. These laws continue to develop and may be inconsistent from jurisdiction to jurisdiction. Complying with emerging and changing international requirements may cause the Company to incur substantial costs or require the Company to change its business practices. Noncompliance could result in significant penalties or legal liability. The Company makes statements about its use and disclosure of PII through its privacy policy, information provided on its website and press statements. Any failure by the Company to comply with these public statements or with other federal, state or international privacy-related or data protection laws and regulations could result in proceedings against the Company by governmental entities or others. Penalties could include ongoing audit requirements or significant legal liability. The Company’s success depends largely on the continued service and availability of key personnel. Much of the Company’s future success depends on the continued availability and service of key personnel, including its Chief Executive Officer, executive team and other highly skilled employees. Experienced personnel in the technology industry are in high demand and competition for their talents is intense, especially in Silicon Valley, where most of the Company’s key personnel are located. The Company’s business may be impacted by political events, war, terrorism, public health issues, natural disasters and other business interruptions. War, terrorism, geopolitical uncertainties, public health issues and other business interruptions have caused and could cause damage or disruption to international commerce and the global economy, and thus could have a material adverse effect on the Company, its suppliers, logistics providers, manufacturing vendors and customers, including channel partners. The Company’s business operations are subject to interruption by, among others, natural disasters, whether as a result of climate change or otherwise, fire, power shortages, nuclear power plant accidents and other industrial accidents, terrorist attacks and other hostile acts, labor disputes, public health issues and other events beyond its control. Such events could decrease demand for the Company’s products, make it difficult or impossible for the Company to make and deliver products to its customers, including channel partners, or to receive components from its suppliers, and create delays and inefficiencies in the Company’s supply chain. While the Company\\'s suppliers are required to maintain safe working environments and operations, an industrial accident could occur and could result in disruption to the Company\\'s business and harm to the Company\\'s reputation. Should major public health issues, including pandemics, arise, the Company could be adversely affected by more stringent employee travel restrictions, additional limitations in freight services, governmental actions limiting the movement of products between regions, delays in production ramps of new products and disruptions in the operations of the Company’s manufacturing vendors and component suppliers. The majority of the Company’s R&D activities, its corporate headquarters, information technology systems and other critical business operations, including certain component suppliers and manufacturing vendors, are in locations that could be affected by natural disasters. In the event of a natural disaster, the Company could incur significant losses, require substantial recovery time and experience significant expenditures in order to resume operations. The Company expects its quarterly revenue and operating results to fluctuate. The Company’s profit margins vary across its products and distribution channels. The Company’s software, accessories, and service and support contracts generally have higher gross margins than certain of the Company’s other products. Gross margins on the Company’s hardware products vary across product lines and can change over time as a result of product transitions, pricing and configuration changes, and component, warranty, and other cost fluctuations. The Company’s direct sales generally have higher associated gross margins than its indirect sales through its channel partners. In addition, the Company’s gross margin and operating margin percentages, as well as overall profitability, may be materially adversely impacted as a result of a shift in product, geographic or channel mix, component cost increases, the strengthening U.S. dollar, price competition, or the introduction of new products, including those that have higher cost structures with flat or reduced pricing.  The Company has typically experienced higher net sales in its first quarter compared to other quarters due in part to seasonal holiday demand. Additionally, new product introductions can significantly impact net sales, product costs and operating expenses. Further, the Company generates a majority of its net sales from a single product and a decline in demand for that product could significantly impact quarterly net sales. The Company could also be subject to unexpected developments late in a quarter, such as lower-than-anticipated demand for the Company’s products, issues with new product introductions, an internal systems failure, or failure of one of the Company’s logistics, components supply, or manufacturing partners.  The Company’s stock price is subject to volatility. The Company’s stock price has experienced substantial price volatility in the past and may continue to do so in the future. Additionally, the Company, the technology industry and the stock market as a whole have experienced extreme stock price and volume fluctuations that have affected stock prices in ways that may have been unrelated to these companies’ operating performance. Price volatility over a given period may cause the average price at which the Company repurchases its own stock to exceed the stock’s price at a given point in time. The Company believes its stock price should reflect expectations of future growth and profitability. The Company also believes its stock price should reflect expectations that its cash dividend will continue at current levels or grow and that its current share repurchase program will be fully consummated. Future dividends are subject to declaration by the Company’s Board of Directors, and the Company’s share repurchase program does not obligate it to acquire any specific number of shares. If the Company fails to meet expectations related to future growth, profitability, dividends, share repurchases or other market expectations, its stock price may decline significantly, which could have a material adverse impact on investor confidence and employee retention.  The Company’s financial performance is subject to risks associated with changes in the value of the U.S. dollar versus local currencies. The Company’s primary exposure to movements in foreign currency exchange rates relates to non-U.S. dollar-denominated sales and operating expenses worldwide. Weakening of foreign currencies relative to the U.S. dollar adversely affects the U.S. dollar value of the Company’s foreign currency-denominated sales and earnings, and generally leads the Company to raise international pricing, potentially reducing demand for the Company’s products. Margins on sales of the Company’s products in foreign countries and on sales of products that include components obtained from foreign suppliers, could be materially adversely affected by foreign currency exchange rate fluctuations. In some circumstances, for competitive or other reasons, the Company may decide not to raise local prices to fully offset the dollar’s strengthening, or at all, which would adversely affect the U.S. dollar value of the Company’s foreign currency-denominated sales and earnings. Conversely, a strengthening of foreign currencies relative to the U.S. dollar, while generally beneficial to the Company’s foreign currency-denominated sales and earnings, could cause the Company to reduce international pricing and incur losses on its foreign currency derivative instruments, thereby limiting the benefit. Additionally, strengthening of foreign currencies may also increase the Company’s cost of product components denominated in those currencies, thus adversely affecting gross margins. The Company uses derivative instruments, such as foreign currency forward and option contracts, to hedge certain exposures to fluctuations in foreign currency exchange rates. The use of such hedging activities may not offset any, or more than a portion, of the adverse financial effects of unfavorable movements in foreign exchange rates over the limited time the hedges are in place. The Company is exposed to credit risk and fluctuations in the market values of its investment portfolio. Given the global nature of its business, the Company has both domestic and international investments. Credit ratings and pricing of the Company’s investments can be negatively affected by liquidity, credit deterioration, financial results, economic risk, political risk, sovereign risk or other factors. As a result, the value and liquidity of the Company’s cash, cash equivalents and marketable securities may fluctuate substantially. Therefore, although the Company has not realized any significant losses on its cash, cash equivalents and marketable securities, future fluctuations in their value could result in a significant realized loss. The Company is exposed to credit risk on its trade accounts receivable, vendor non-trade receivables and prepayments related to long-term supply agreements, and this risk is heightened during periods when economic conditions worsen. The Company distributes its products through third-party cellular network carriers, wholesalers, retailers and value-added resellers. The Company also sells its products directly to small and mid-sized businesses and education, enterprise and government customers. A substantial majority of the Company’s outstanding trade receivables are not covered by collateral, third-party financing arrangements or credit insurance. The Company’s exposure to credit and collectability risk on its trade receivables is higher in certain international markets and its ability to mitigate such risks may be limited. The Company also has unsecured vendor non-trade receivables resulting from purchases of components by outsourcing partners and other vendors that manufacture sub-assemblies or assemble final products for the Company. In addition, the Company has made prepayments associated with long-term supply agreements to secure supply of inventory components. As of September 24, 2016, a significant portion of the Company’s trade receivables was concentrated within cellular network carriers, and its vendor non-trade receivables and prepayments related to long-term supply agreements were concentrated among a few individual vendors located primarily in Asia. While the Company has procedures to monitor and limit exposure to credit risk on its trade and vendor non-trade receivables, as well as long-term prepayments, there can be no assurance such procedures will effectively limit its credit risk and avoid losses. The Company could be subject to changes in its tax rates, the adoption of new U.S. or international tax legislation or exposure to additional tax liabilities. The Company is subject to taxes in the U.S. and numerous foreign jurisdictions, including Ireland, where a number of the Company’s subsidiaries are organized. Due to economic and political conditions, tax rates in various jurisdictions may be subject to significant change. The Company’s effective tax rates could be affected by changes in the mix of earnings in countries with differing statutory tax rates, changes in the valuation of deferred tax assets and liabilities, or changes in tax laws or their interpretation, including in the U.S. and Ireland.  The Company is also subject to the examination of its tax returns and other tax matters by the U.S. Internal Revenue Service (the \"IRS\") and other tax authorities and governmental bodies. The Company regularly assesses the likelihood of an adverse outcome resulting from these examinations to determine the adequacy of its provision for taxes. There can be no assurance as to the outcome of these examinations. If the Company’s effective tax rates were to increase, particularly in the U.S. or Ireland, or if the ultimate determination of the Company’s taxes owed is for an amount in excess of amounts previously accrued, the Company’s financial condition, operating results and cash flows could be adversely affected. '"
      ]
     },
     "execution_count": 6,
     "metadata": {},
     "output_type": "execute_result"
    }
   ],
   "source": [
    "# sentences separated by ; are better viewed as multiple sentences\n",
    "# join combines all the newlines in the file\n",
    "\n",
    "f = open(\"physics.txt\", \"r\")\n",
    "text_phy=''.join(f).replace(';','.')\n",
    "\n",
    "f = open(\"alice.txt\", \"r\")\n",
    "text_alice=''.join(f).replace(';','.')\n",
    "\n",
    "f = open(\"AAPL_10k_2017.txt\", \"r\")\n",
    "text_10k=''.join(f).replace(';','.')\n",
    "\n",
    "text_10k"
   ]
  },
  {
   "cell_type": "code",
   "execution_count": 7,
   "metadata": {},
   "outputs": [
    {
     "name": "stdout",
     "output_type": "stream",
     "text": [
      "The following discussion of risk factors contains forward-looking statements. These risk factors may be important to understanding other statements in this Form 10-K. The following information should be read in conjunction with Part II, Item 7, “Management’s Discussion and Analysis of Financial Condition and Results of Operations” and the consolidated financial statements and related notes in Part II, Item 8, “Financial Statements and Supplementary Data” of this Form 10-K. The business, financia...\n",
      "\n",
      "In particle physics, supersymmetry (SUSY) is a principle that proposes a relationship between two basic classes of elementary particles: bosons, which have an integer-valued spin, and fermions, which have a half-integer spin. A type of spacetime symmetry, supersymmetry is a possible candidate for undiscovered particle physics, and seen as an elegant solution to many current problems in particle physics if confirmed correct, which could resolve various areas where current theories are believed to...\n",
      "\n",
      "Alice was beginning to get very tired of sitting by her sister on the bank, and of having nothing to do: once or twice she had peeped into the book her sister was reading, but it had no pictures or conversations in it, “and what is the use of a book,” thought Alice, “without pictures or conversations?”. So she was considering, in her own mind (as well as she could, for the hot day made her feel very sleepy and stupid), whether the pleasure of making a daisy-chain would be worth the trouble of ge...\n",
      "\n"
     ]
    }
   ],
   "source": [
    "# check out some of the texts\n",
    "print(text_10k[:500]+\"...\\n\")\n",
    "print(text_phy[:500]+\"...\\n\")\n",
    "print(text_alice[:500]+\"...\\n\")"
   ]
  },
  {
   "cell_type": "markdown",
   "metadata": {},
   "source": [
    "## 1. Pre-processing\n",
    "Here, we need to define functions that can split our texts into sentences, and split our sentences into words"
   ]
  },
  {
   "cell_type": "code",
   "execution_count": 11,
   "metadata": {},
   "outputs": [
    {
     "name": "stdout",
     "output_type": "stream",
     "text": [
      "[nltk_data] Downloading package cmudict to /root/nltk_data...\n",
      "[nltk_data]   Unzipping corpora/cmudict.zip.\n",
      "[nltk_data] Downloading package wordnet to /root/nltk_data...\n",
      "[nltk_data]   Unzipping corpora/wordnet.zip.\n",
      "[nltk_data] Downloading package punkt to /root/nltk_data...\n",
      "[nltk_data]   Unzipping tokenizers/punkt.zip.\n"
     ]
    }
   ],
   "source": [
    "# tokenize and clean the text\n",
    "import nltk\n",
    "from nltk.stem import WordNetLemmatizer, SnowballStemmer\n",
    "from collections import Counter\n",
    "from nltk.corpus import stopwords\n",
    "\n",
    "from nltk import word_tokenize\n",
    "from syllable_count import syllable_count\n",
    "\n",
    "\n",
    "nltk.download('wordnet')\n",
    "\n",
    "sno = SnowballStemmer('english')\n",
    "wnl = WordNetLemmatizer()\n",
    "\n",
    "from nltk.tokenize import RegexpTokenizer\n",
    "\n",
    "# tokenizer that selects out non letter and non symbol (i.e. all alphabets)\n",
    "word_tokenizer = RegexpTokenizer(r'[^\\d\\W]+')\n",
    "\n",
    "\n",
    "def word_tokenize(sent):\n",
    "    return [ w for w in word_tokenizer.tokenize(sent) if w.isalpha() ]\n",
    "\n",
    "# for the sentence tokenizer\n",
    "nltk.download('punkt')\n",
    "from nltk.tokenize import sent_tokenize\n",
    "\n",
    "# you can tokenize sentences by calling\n",
    "# sent_tokenize(document)\n",
    "\n",
    "# and tokenize words by calling\n",
    "# word_tokenize(sentence)\n",
    "\n",
    "# syllable_count counts the number of syllables in a word\n",
    "# it's included in syllable_count.py"
   ]
  },
  {
   "cell_type": "markdown",
   "metadata": {},
   "source": [
    "Now implement three functions\n",
    "\n",
    "1. `sentence_count`: a simple function that returns the number of sentences in a document\n",
    "\n",
    "2. `word_count`: a simple function that returns the number of words in a sentence\n",
    "\n",
    "3. `hard_word_count`: a simple function that returns the number of words with more than 3 syllables, while removing suffixes like \"-ed\", and \"-ing\". This can be done by lemmatizing the word, i.e. `wnl.lemmatize(word, pos='v')`\n",
    "\n",
    "the function `word_tokenize(sentence)` will be useful here"
   ]
  },
  {
   "cell_type": "code",
   "execution_count": 12,
   "metadata": {},
   "outputs": [],
   "source": [
    "def sentence_count(text):\n",
    "    return len(sent_tokenizer.tokenize(text))\n",
    "\n",
    "def word_count(sent):\n",
    "    return len([ w for w in word_tokenize(sent)])\n",
    "\n",
    "def hard_word_count(sent):\n",
    "    return len([ w for w in word_tokenize(sent) \\\n",
    "                if syllable_count(wnl.lemmatize(w, pos='v'))>=3 ])\n"
   ]
  },
  {
   "cell_type": "markdown",
   "metadata": {},
   "source": [
    "## 2. Readability Grade-Levels\n",
    "\n",
    "Here, you will implement the two readability indices (grade levels). They are defined by\n",
    "\n",
    "\\begin{align}\n",
    "\\textrm{Flesch–Kincaid Grade} \n",
    "= 0.39 \\left(\n",
    "\\frac{\\textrm{Number of words}}{\\textrm{Number of sentences}}\n",
    "\\right) \\\\\n",
    "+11.8\n",
    "\\left(\n",
    "\\frac{\\textrm{Number of syllables}}{\\textrm{Number of words}}\n",
    "\\right)\n",
    "-15.59\n",
    "\\end{align}\n",
    "\n",
    "and\n",
    "\n",
    "\\begin{align}\n",
    "\\textrm{Gunning-Fog Grade} \n",
    "=\\; &0.4 \\bigg[ \n",
    "\\left(\n",
    "\\frac{\\textrm{Number of words}}{\\textrm{Number of sentences}}\n",
    "\\right) \n",
    "+100\n",
    "\\left(\n",
    "\\frac{\\textrm{Number of hard words}}{\\textrm{Number of words}}\n",
    "\\right)\n",
    "\\bigg]\n",
    "\\end{align}\n",
    "\n",
    "To count syllables, we've added a syllable_count function you can access via \n",
    "\n",
    "```\n",
    "from syllable_count import syllable_count\n",
    "syllable_count(\"syllable\")\n",
    "```\n",
    "\n",
    "Below, implement the function `flesch_index` and `fog_index` that computes the readability grade level for a given text."
   ]
  },
  {
   "cell_type": "code",
   "execution_count": 13,
   "metadata": {},
   "outputs": [],
   "source": [
    "import numpy as np\n",
    "\n",
    "def flesch_index(text):\n",
    "    sentences = sent_tokenize(text)\n",
    "\n",
    "    total_sentences = len(sentences)\n",
    "    total_words = np.sum([ word_count(s) for s in sentences ])\n",
    "    total_syllables = np.sum([ np.sum([ syllable_count(w) for w in word_tokenize(s) ]) \\\n",
    "                              for s in sentences ])\n",
    "    \n",
    "    return 0.39*(total_words/total_sentences) + \\\n",
    "            11.8*(total_syllables/total_words) - 15.59\n",
    "\n",
    "def fog_index(text):\n",
    "    sentences = sent_tokenize(text)\n",
    "\n",
    "    total_sentences = len(sentences)\n",
    "    total_words = np.sum([ word_count(s) for s in sentences ])\n",
    "    total_hard_words = np.sum([ hard_word_count(s) for s in sentences ])\n",
    "    \n",
    "    return 0.4*((total_words/total_sentences) + \\\n",
    "            100.0*(total_hard_words/total_words))"
   ]
  },
  {
   "cell_type": "markdown",
   "metadata": {},
   "source": [
    "## 3 Results\n",
    "\n",
    "Now that you've coded up the exercises, compute the grade levels for each of the texts given.\n"
   ]
  },
  {
   "cell_type": "code",
   "execution_count": 14,
   "metadata": {},
   "outputs": [
    {
     "name": "stdout",
     "output_type": "stream",
     "text": [
      "7.78094652406 9.73654188948\n",
      "16.3171712123 19.3225332001\n",
      "18.2108288106 21.5614490682\n"
     ]
    }
   ],
   "source": [
    "# to test the solutions\n",
    "# uncommon next line\n",
    "# from readability_solutions import *\n",
    "\n",
    "print(flesch_index(text_alice),fog_index(text_alice))\n",
    "print(flesch_index(text_phy),fog_index(text_phy))\n",
    "print(flesch_index(text_10k),fog_index(text_10k))"
   ]
  },
  {
   "cell_type": "markdown",
   "metadata": {},
   "source": [
    "You should expect a grade level around 7-10 for `alice.txt`, and around 16-19 for `physics.txt`, and 18+ for financial documents! \n",
    "\n",
    "It turns out 10-Ks are really *hard* to read legal documents!\n",
    "Now, let's compute the readability for all the 10-Ks we have"
   ]
  },
  {
   "cell_type": "code",
   "execution_count": 15,
   "metadata": {},
   "outputs": [
    {
     "name": "stdout",
     "output_type": "stream",
     "text": [
      "AAPL_10k_2013.txt 19.0414157978 22.4242197611\n",
      "AAPL_10k_2014.txt 18.1536894665 21.533048686\n",
      "AAPL_10k_2015.txt 18.2144706379 21.6060051245\n",
      "AAPL_10k_2016.txt 18.2620196893 21.6361424013\n",
      "AAPL_10k_2017.txt 18.2108288106 21.5614490682\n",
      "EBAY_10k_2013.txt 16.5249334605 18.8457055614\n",
      "EBAY_10k_2014.txt 17.2088261149 19.4673717189\n",
      "EBAY_10k_2015.txt 17.522305957 19.844332095\n",
      "EBAY_10k_2016.txt 17.1741438469 19.5172704435\n",
      "EBAY_10k_2017.txt 16.988036714 19.3980211714\n"
     ]
    }
   ],
   "source": [
    "filelist_10k=!ls *10k*txt\n",
    "\n",
    "\n",
    "flesch = []\n",
    "fog = []\n",
    "\n",
    "for file in filelist_10k:\n",
    "    with open(file, 'r') as f:\n",
    "        text=''.join(f).replace(';','.')\n",
    "        flesch.append(flesch_index(text))\n",
    "        fog.append(fog_index(text))\n",
    "        print(file, flesch[-1],fog[-1])"
   ]
  },
  {
   "cell_type": "markdown",
   "metadata": {},
   "source": [
    "Superficially, and according to our readability metrics, reading 10-Ks is harder than reading articles on theoretical physics!"
   ]
  },
  {
   "cell_type": "markdown",
   "metadata": {},
   "source": [
    "# Bonus exercise:\n",
    "How are the two readability grade-levels correlated? Compute the covariance matrix of the two readability indices we have on all the 10K documents, and make a scatter plot of Flesch index vs Fog index. Also perform a least-squared fit to the result and plot it as well.\n",
    "\n",
    "(change bottom cell to code and remove html tags for solution)"
   ]
  },
  {
   "cell_type": "code",
   "execution_count": 19,
   "metadata": {},
   "outputs": [
    {
     "name": "stdout",
     "output_type": "stream",
     "text": [
      "[[ 0.58607858  0.96039075]\n",
      " [ 0.96039075  1.63934394]]\n"
     ]
    },
    {
     "data": {
      "text/plain": [
       "Text(0,0.5,'Fog Index')"
      ]
     },
     "execution_count": 19,
     "metadata": {},
     "output_type": "execute_result"
    },
    {
     "data": {
      "image/png": "[encoded data removed]",
      "text/plain": [
       "<matplotlib.figure.Figure at 0x7f491de2f630>"
      ]
     },
     "metadata": {
      "needs_background": "light"
     },
     "output_type": "display_data"
    }
   ],
   "source": [
    "import numpy as np\n",
    "import matplotlib.pyplot as plt\n",
    "from scipy.stats import linregress\n",
    "\n",
    "\n",
    "# TO DO\n",
    "cov = np.cov(flesch,fog) \n",
    "print(cov)\n",
    "\n",
    "%matplotlib inline\n",
    "\n",
    "plt.figure(figsize=(6,5)) \n",
    "plt.scatter(flesch,fog)\n",
    "\n",
    "slope, intercept, r_value, p_value, std_err = linregress(flesch, fog)\n",
    "\n",
    "x=np.linspace(16.5,19,101) \n",
    "y=slope*x+intercept \n",
    "plt.plot(x,y)\n",
    "\n",
    "plt.xlabel(\"Flesch Index\") \n",
    "plt.ylabel(\"Fog Index\")"
   ]
  },
  {
   "cell_type": "markdown",
   "metadata": {},
   "source": [
    "<font color=\"white\">\n",
    "\n",
    "#solution\n",
    "cov = np.cov(flesch,fog)\n",
    "print(cov)\n",
    "\n",
    "%matplotlib inline\n",
    "\n",
    "plt.figure(figsize=(6,5))\n",
    "plt.scatter(flesch,fog) \n",
    "\n",
    "slope, intercept, r_value, p_value, std_err = linregress(flesch, fog)\n",
    "\n",
    "x=np.linspace(16.5,19,101)\n",
    "y=slope*x+intercept\n",
    "plt.plot(x,y)\n",
    "\n",
    "plt.xlabel(\"Flesch Index\")\n",
    "plt.ylabel(\"Fog Index\")\n",
    "\n",
    "</font>"
   ]
  }
 ],
 "metadata": {
  "kernelspec": {
   "display_name": "Python 3",
   "language": "python",
   "name": "python3"
  },
  "language_info": {
   "codemirror_mode": {
    "name": "ipython",
    "version": 3
   },
   "file_extension": ".py",
   "mimetype": "text/x-python",
   "name": "python",
   "nbconvert_exporter": "python",
   "pygments_lexer": "ipython3",
   "version": "3.6.3"
  }
 },
 "nbformat": 4,
 "nbformat_minor": 2
}

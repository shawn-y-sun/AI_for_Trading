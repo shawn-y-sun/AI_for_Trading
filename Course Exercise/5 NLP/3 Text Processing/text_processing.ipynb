{
 "cells": [
  {
   "cell_type": "markdown",
   "metadata": {},
   "source": [
    "# Text Processing\n",
    "\n",
    "## Capturing Text Data\n",
    "\n",
    "### Plain Text"
   ]
  },
  {
   "cell_type": "code",
   "execution_count": 1,
   "metadata": {},
   "outputs": [
    {
     "name": "stdout",
     "output_type": "stream",
     "text": [
      "Hieroglyphic writing dates from c. 3000 BC, and is composed of hundreds of symbols. A hieroglyph can represent a word, a sound, or a silent determinative; and the same symbol can serve different purposes in different contexts. Hieroglyphs were a formal script, used on stone monuments and in tombs, that could be as detailed as individual works of art.\n",
      "\n"
     ]
    }
   ],
   "source": [
    "import os\n",
    "\n",
    "# Read in a plain text file\n",
    "with open(os.path.join(\"data\", \"hieroglyph.txt\"), \"r\") as f:\n",
    "    text = f.read()\n",
    "    print(text)"
   ]
  },
  {
   "cell_type": "markdown",
   "metadata": {},
   "source": [
    "### Tabular Data"
   ]
  },
  {
   "cell_type": "code",
   "execution_count": 2,
   "metadata": {
    "scrolled": true
   },
   "outputs": [
    {
     "data": {
      "text/html": [
       "<div>\n",
       "<style scoped>\n",
       "    .dataframe tbody tr th:only-of-type {\n",
       "        vertical-align: middle;\n",
       "    }\n",
       "\n",
       "    .dataframe tbody tr th {\n",
       "        vertical-align: top;\n",
       "    }\n",
       "\n",
       "    .dataframe thead th {\n",
       "        text-align: right;\n",
       "    }\n",
       "</style>\n",
       "<table border=\"1\" class=\"dataframe\">\n",
       "  <thead>\n",
       "    <tr style=\"text-align: right;\">\n",
       "      <th></th>\n",
       "      <th>publisher</th>\n",
       "      <th>title</th>\n",
       "    </tr>\n",
       "  </thead>\n",
       "  <tbody>\n",
       "    <tr>\n",
       "      <th>0</th>\n",
       "      <td>Livemint</td>\n",
       "      <td>fed's charles plosser sees high bar for change...</td>\n",
       "    </tr>\n",
       "    <tr>\n",
       "      <th>1</th>\n",
       "      <td>IFA Magazine</td>\n",
       "      <td>us open: stocks fall after fed official hints ...</td>\n",
       "    </tr>\n",
       "    <tr>\n",
       "      <th>2</th>\n",
       "      <td>IFA Magazine</td>\n",
       "      <td>fed risks falling 'behind the curve', charles ...</td>\n",
       "    </tr>\n",
       "    <tr>\n",
       "      <th>3</th>\n",
       "      <td>Moneynews</td>\n",
       "      <td>fed's plosser: nasty weather has curbed job gr...</td>\n",
       "    </tr>\n",
       "    <tr>\n",
       "      <th>4</th>\n",
       "      <td>NASDAQ</td>\n",
       "      <td>plosser: fed may have to accelerate tapering pace</td>\n",
       "    </tr>\n",
       "  </tbody>\n",
       "</table>\n",
       "</div>"
      ],
      "text/plain": [
       "      publisher                                              title\n",
       "0      Livemint  fed's charles plosser sees high bar for change...\n",
       "1  IFA Magazine  us open: stocks fall after fed official hints ...\n",
       "2  IFA Magazine  fed risks falling 'behind the curve', charles ...\n",
       "3     Moneynews  fed's plosser: nasty weather has curbed job gr...\n",
       "4        NASDAQ  plosser: fed may have to accelerate tapering pace"
      ]
     },
     "execution_count": 2,
     "metadata": {},
     "output_type": "execute_result"
    }
   ],
   "source": [
    "import pandas as pd\n",
    "\n",
    "# Extract text column from a dataframe\n",
    "df = pd.read_csv(os.path.join(\"data\", \"news.csv\"))\n",
    "df.head()[['publisher', 'title']]\n",
    "\n",
    "# Convert text column to lowercase\n",
    "df['title'] = df['title'].str.lower()\n",
    "df.head()[['publisher', 'title']]"
   ]
  },
  {
   "cell_type": "markdown",
   "metadata": {},
   "source": [
    "### Online Resource"
   ]
  },
  {
   "cell_type": "code",
   "execution_count": 3,
   "metadata": {
    "scrolled": true
   },
   "outputs": [
    {
     "name": "stdout",
     "output_type": "stream",
     "text": [
      "{\n",
      "    \"success\": {\n",
      "        \"total\": 1\n",
      "    },\n",
      "    \"contents\": {\n",
      "        \"quotes\": [\n",
      "            {\n",
      "                \"quote\": \"Vision without action is daydream. Action without vision is nightmare..\",\n",
      "                \"length\": \"73\",\n",
      "                \"author\": \"Japanese Proverb\",\n",
      "                \"tags\": [\n",
      "                    \"action\",\n",
      "                    \"inspire\",\n",
      "                    \"vision\"\n",
      "                ],\n",
      "                \"category\": \"inspire\",\n",
      "                \"language\": \"en\",\n",
      "                \"date\": \"2021-04-01\",\n",
      "                \"permalink\": \"https://theysaidso.com/quote/japanese-proverb-vision-without-action-is-daydream-action-without-vision-is-nigh\",\n",
      "                \"id\": \"1frNkKmnuhbKYO4OyURZyQeF\",\n",
      "                \"background\": \"https://theysaidso.com/img/qod/qod-inspire.jpg\",\n",
      "                \"title\": \"Inspiring Quote of the day\"\n",
      "            }\n",
      "        ]\n",
      "    },\n",
      "    \"baseurl\": \"https://theysaidso.com\",\n",
      "    \"copyright\": {\n",
      "        \"year\": 2023,\n",
      "        \"url\": \"https://theysaidso.com\"\n",
      "    }\n",
      "}\n",
      "Vision without action is daydream. Action without vision is nightmare.. \n",
      "-- Japanese Proverb\n"
     ]
    }
   ],
   "source": [
    "import requests\n",
    "import json\n",
    "\n",
    "# Fetch data from a REST API\n",
    "r = requests.get(\n",
    "    \"https://quotes.rest/qod.json\")\n",
    "res = r.json()\n",
    "print(json.dumps(res, indent=4))\n",
    "\n",
    "# Extract relevant object and field\n",
    "q = res[\"contents\"][\"quotes\"][0]\n",
    "print(q[\"quote\"], \"\\n--\", q[\"author\"])"
   ]
  },
  {
   "cell_type": "markdown",
   "metadata": {},
   "source": [
    "## Cleaning"
   ]
  },
  {
   "cell_type": "code",
   "execution_count": 4,
   "metadata": {
    "scrolled": true
   },
   "outputs": [
    {
     "name": "stdout",
     "output_type": "stream",
     "text": [
      "<html lang=\"en\" op=\"news\"><head><meta name=\"referrer\" content=\"origin\"><meta name=\"viewport\" content=\"width=device-width, initial-scale=1.0\"><link rel=\"stylesheet\" type=\"text/css\" href=\"news.css?b4yQXyUpDNwZ0ooViyaE\">\n",
      "        <link rel=\"shortcut icon\" href=\"favicon.ico\">\n",
      "          <link rel=\"alternate\" type=\"application/rss+xml\" title=\"RSS\" href=\"rss\">\n",
      "        <title>Hacker News</title></head><body><center><table id=\"hnmain\" border=\"0\" cellpadding=\"0\" cellspacing=\"0\" width=\"85%\" bgcolor=\"#f6f6ef\">\n",
      "        <tr><td bgcolor=\"#ff6600\"><table border=\"0\" cellpadding=\"0\" cellspacing=\"0\" width=\"100%\" style=\"padding:2px\"><tr><td style=\"width:18px;padding-right:4px\"><a href=\"https://news.ycombinator.com\"><img src=\"y18.gif\" width=\"18\" height=\"18\" style=\"border:1px white solid;\"></a></td>\n",
      "                  <td style=\"line-height:12pt; height:10px;\"><span class=\"pagetop\"><b class=\"hnname\"><a href=\"news\">Hacker News</a></b>\n",
      "              <a href=\"newest\">new</a> | <a href=\"front\">past</a> | <a href=\"newcomments\">comments</a> | <a href=\"ask\">ask</a> | <a href=\"show\">show</a> | <a href=\"jobs\">jobs</a> | <a href=\"submit\">submit</a>            </span></td><td style=\"text-align:right;padding-right:4px;\"><span class=\"pagetop\">\n",
      "                              <a href=\"login?goto=news\">login</a>\n",
      "                          </span></td>\n",
      "              </tr></table></td></tr>\n",
      "<tr id=\"pagespace\" title=\"\" style=\"height:10px\"></tr><tr><td><table border=\"0\" cellpadding=\"0\" cellspacing=\"0\" class=\"itemlist\">\n",
      "              <tr class='athing' id='26659150'>\n",
      "      <td align=\"right\" valign=\"top\" class=\"title\"><span class=\"rank\">1.</span></td>      <td valign=\"top\" class=\"votelinks\"><center><a id='up_26659150' href='vote?id=26659150&amp;how=up&amp;goto=news'><div class='votearrow' title='upvote'></div></a></center></td><td class=\"title\"><a href=\"https://www.fxtec.com/pro1x\" class=\"storylink\">Pro¹X: A Linux smartphone with slideout keyboard</a><span class=\"sitebit comhead\"> (<a href=\"from?site=fxtec.com\"><span class=\"sitestr\">fxtec.com</span></a>)</span></td></tr><tr><td colspan=\"2\"></td><td class=\"subtext\">\n",
      "        <span class=\"score\" id=\"score_26659150\">42 points</span> by <a href=\"user?id=phantom_oracle\" class=\"hnuser\">phantom_oracle</a> <span class=\"age\"><a href=\"item?id=26659150\">1 hour ago</a></span> <span id=\"unv_26659150\"></span> | <a href=\"hide?id=26659150&amp;goto=news\">hide</a> | <a href=\"item?id=26659150\">19&nbsp;comments</a>              </td></tr>\n",
      "      <tr class=\"spacer\" style=\"height:5px\"></tr>\n",
      "                <tr class='athing' id='26631995'>\n",
      "      <td align=\"right\" valign=\"top\" class=\"title\"><span class=\"rank\">2.</span></td>      <td valign=\"top\" class=\"votelinks\"><center><a id='up_26631995' href='vote?id=26631995&amp;how=up&amp;goto=news'><div class='votearrow' title='upvote'></div></a></center></td><td class=\"title\"><a href=\"https://github.com/s-macke/VoxelSpace\" class=\"storylink\">Voxel Space: Comanche's terrain rendering in less than 20 lines of code (2020)</a><span class=\"sitebit comhead\"> (<a href=\"from?site=github.com/s-macke\"><span class=\"sitestr\">github.com/s-macke</span></a>)</span></td></tr><tr><td colspan=\"2\"></td><td class=\"subtext\">\n",
      "        <span class=\"score\" id=\"score_26631995\">133 points</span> by <a href=\"user?id=danbolt\" class=\"hnuser\">danbolt</a> <span class=\"age\"><a href=\"item?id=26631995\">3 hours ago</a></span> <span id=\"unv_26631995\"></span> | <a href=\"hide?id=26631995&amp;goto=news\">hide</a> | <a href=\"item?id=26631995\">15&nbsp;comments</a>              </td></tr>\n",
      "      <tr class=\"spacer\" style=\"height:5px\"></tr>\n",
      "                <tr class='athing' id='26659553'>\n",
      "      <td align=\"right\" valign=\"top\" class=\"title\"><span class=\"rank\">3.</span></td>      <td valign=\"top\" class=\"votelinks\"><center><a id='up_26659553' href='vote?id=26659553&amp;how=up&amp;goto=news'><div class='votearrow' title='upvote'></div></a></center></td><td class=\"title\"><a href=\"https://mailstudio.app/\" class=\"storylink\">Show HN: Mail Studio – IDE for designing responsive emails</a><span class=\"sitebit comhead\"> (<a href=\"from?site=mailstudio.app\"><span class=\"sitestr\">mailstudio.app</span></a>)</span></td></tr><tr><td colspan=\"2\"></td><td class=\"subtext\">\n",
      "        <span class=\"score\" id=\"score_26659553\">15 points</span> by <a href=\"user?id=martinaglv\" class=\"hnuser\">martinaglv</a> <span class=\"age\"><a href=\"item?id=26659553\">15 minutes ago</a></span> <span id=\"unv_26659553\"></span> | <a href=\"hide?id=26659553&amp;goto=news\">hide</a> | <a href=\"item?id=26659553\">3&nbsp;comments</a>              </td></tr>\n",
      "      <tr class=\"spacer\" style=\"height:5px\"></tr>\n",
      "                <tr class='athing' id='26633792'>\n",
      "      <td align=\"right\" valign=\"top\" class=\"title\"><span class=\"rank\">4.</span></td>      <td valign=\"top\" class=\"votelinks\"><center><a id='up_26633792' href='vote?id=26633792&amp;how=up&amp;goto=news'><div class='votearrow' title='upvote'></div></a></center></td><td class=\"title\"><a href=\"https://www.gkbrk.com/2016/05/hotel-music/\" class=\"storylink\">Reverse Engineering a Mysterious UDP Stream in My Hotel</a><span class=\"sitebit comhead\"> (<a href=\"from?site=gkbrk.com\"><span class=\"sitestr\">gkbrk.com</span></a>)</span></td></tr><tr><td colspan=\"2\"></td><td class=\"subtext\">\n",
      "        <span class=\"score\" id=\"score_26633792\">82 points</span> by <a href=\"user?id=crecker\" class=\"hnuser\">crecker</a> <span class=\"age\"><a href=\"item?id=26633792\">2 hours ago</a></span> <span id=\"unv_26633792\"></span> | <a href=\"hide?id=26633792&amp;goto=news\">hide</a> | <a href=\"item?id=26633792\">18&nbsp;comments</a>              </td></tr>\n",
      "      <tr class=\"spacer\" style=\"height:5px\"></tr>\n",
      "                <tr class='athing' id='26656206'>\n",
      "      <td align=\"right\" valign=\"top\" class=\"title\"><span class=\"rank\">5.</span></td>      <td valign=\"top\" class=\"votelinks\"><center><a id='up_26656206' href='vote?id=26656206&amp;how=up&amp;goto=news'><div class='votearrow' title='upvote'></div></a></center></td><td class=\"title\"><a href=\"https://www.grenzwissenschaft-aktuell.de/latest-emdrive-tests-at-dresden-university-shows-impossible-engine-does-not-develop-any-thrust20210321/\" class=\"storylink\">Latest EmDrive tests at Dresden University shows it does not develop any thrust</a><span class=\"sitebit comhead\"> (<a href=\"from?site=grenzwissenschaft-aktuell.de\"><span class=\"sitestr\">grenzwissenschaft-aktuell.de</span></a>)</span></td></tr><tr><td colspan=\"2\"></td><td class=\"subtext\">\n",
      "        <span class=\"score\" id=\"score_26656206\">358 points</span> by <a href=\"user?id=sohkamyung\" class=\"hnuser\">sohkamyung</a> <span class=\"age\"><a href=\"item?id=26656206\">9 hours ago</a></span> <span id=\"unv_26656206\"></span> | <a href=\"hide?id=26656206&amp;goto=news\">hide</a> | <a href=\"item?id=26656206\">177&nbsp;comments</a>              </td></tr>\n",
      "      <tr class=\"spacer\" style=\"height:5px\"></tr>\n",
      "                <tr class='athing' id='26657828'>\n",
      "      <td align=\"right\" valign=\"top\" class=\"title\"><span class=\"rank\">6.</span></td>      <td valign=\"top\" class=\"votelinks\"><center><a id='up_26657828' href='vote?id=26657828&amp;how=up&amp;goto=news'><div class='votearrow' title='upvote'></div></a></center></td><td class=\"title\"><a href=\"https://blog.pgdp.net/2021/04/01/arabian-nights/\" class=\"storylink\">Arabian Nights</a><span class=\"sitebit comhead\"> (<a href=\"from?site=pgdp.net\"><span class=\"sitestr\">pgdp.net</span></a>)</span></td></tr><tr><td colspan=\"2\"></td><td class=\"subtext\">\n",
      "        <span class=\"score\" id=\"score_26657828\">101 points</span> by <a href=\"user?id=sohkamyung\" class=\"hnuser\">sohkamyung</a> <span class=\"age\"><a href=\"item?id=26657828\">4 hours ago</a></span> <span id=\"unv_26657828\"></span> | <a href=\"hide?id=26657828&amp;goto=news\">hide</a> | <a href=\"item?id=26657828\">52&nbsp;comments</a>              </td></tr>\n",
      "      <tr class=\"spacer\" style=\"height:5px\"></tr>\n",
      "                <tr class='athing' id='26659368'>\n",
      "      <td align=\"right\" valign=\"top\" class=\"title\"><span class=\"rank\">7.</span></td>      <td></td><td class=\"title\"><a href=\"https://docs.google.com/document/d/1kksPsH76klEYp6A-0c-ilcV-pBN2ldbAYWaeuPOM9OM/edit?usp=sharing\" class=\"storylink\" rel=\"nofollow\">By 10 (YC S17) Is Hiring Recruiting Account Manager</a><span class=\"sitebit comhead\"> (<a href=\"from?site=docs.google.com\"><span class=\"sitestr\">docs.google.com</span></a>)</span></td></tr><tr><td colspan=\"2\"></td><td class=\"subtext\">\n",
      "        <span class=\"age\"><a href=\"item?id=26659368\">40 minutes ago</a></span> | <a href=\"hide?id=26659368&amp;goto=news\">hide</a>      </td></tr>\n",
      "      <tr class=\"spacer\" style=\"height:5px\"></tr>\n",
      "                <tr class='athing' id='26658111'>\n",
      "      <td align=\"right\" valign=\"top\" class=\"title\"><span class=\"rank\">8.</span></td>      <td valign=\"top\" class=\"votelinks\"><center><a id='up_26658111' href='vote?id=26658111&amp;how=up&amp;goto=news'><div class='votearrow' title='upvote'></div></a></center></td><td class=\"title\"><a href=\"https://boris-marinov.github.io/category-theory-illustrated/04_order/\" class=\"storylink\">Category Theory: Orders</a><span class=\"sitebit comhead\"> (<a href=\"from?site=boris-marinov.github.io\"><span class=\"sitestr\">boris-marinov.github.io</span></a>)</span></td></tr><tr><td colspan=\"2\"></td><td class=\"subtext\">\n",
      "        <span class=\"score\" id=\"score_26658111\">52 points</span> by <a href=\"user?id=todsacerdoti\" class=\"hnuser\">todsacerdoti</a> <span class=\"age\"><a href=\"item?id=26658111\">3 hours ago</a></span> <span id=\"unv_26658111\"></span> | <a href=\"hide?id=26658111&amp;goto=news\">hide</a> | <a href=\"item?id=26658111\">4&nbsp;comments</a>              </td></tr>\n",
      "      <tr class=\"spacer\" style=\"height:5px\"></tr>\n",
      "                <tr class='athing' id='26657805'>\n",
      "      <td align=\"right\" valign=\"top\" class=\"title\"><span class=\"rank\">9.</span></td>      <td valign=\"top\" class=\"votelinks\"><center><a id='up_26657805' href='vote?id=26657805&amp;how=up&amp;goto=news'><div class='votearrow' title='upvote'></div></a></center></td><td class=\"title\"><a href=\"https://lineageos.org/Changelog-25/\" class=\"storylink\">LineageOS 18.1</a><span class=\"sitebit comhead\"> (<a href=\"from?site=lineageos.org\"><span class=\"sitestr\">lineageos.org</span></a>)</span></td></tr><tr><td colspan=\"2\"></td><td class=\"subtext\">\n",
      "        <span class=\"score\" id=\"score_26657805\">95 points</span> by <a href=\"user?id=danielg0\" class=\"hnuser\">danielg0</a> <span class=\"age\"><a href=\"item?id=26657805\">4 hours ago</a></span> <span id=\"unv_26657805\"></span> | <a href=\"hide?id=26657805&amp;goto=news\">hide</a> | <a href=\"item?id=26657805\">20&nbsp;comments</a>              </td></tr>\n",
      "      <tr class=\"spacer\" style=\"height:5px\"></tr>\n",
      "                <tr class='athing' id='26657332'>\n",
      "      <td align=\"right\" valign=\"top\" class=\"title\"><span class=\"rank\">10.</span></td>      <td valign=\"top\" class=\"votelinks\"><center><a id='up_26657332' href='vote?id=26657332&amp;how=up&amp;goto=news'><div class='votearrow' title='upvote'></div></a></center></td><td class=\"title\"><a href=\"https://99percentinvisible.org/episode/great-bitter-lake-association/\" class=\"storylink\">Great Bitter Lake Association, the Sort-of-Micronation Formed in the Suez Canal</a><span class=\"sitebit comhead\"> (<a href=\"from?site=99percentinvisible.org\"><span class=\"sitestr\">99percentinvisible.org</span></a>)</span></td></tr><tr><td colspan=\"2\"></td><td class=\"subtext\">\n",
      "        <span class=\"score\" id=\"score_26657332\">116 points</span> by <a href=\"user?id=mellowhype\" class=\"hnuser\">mellowhype</a> <span class=\"age\"><a href=\"item?id=26657332\">5 hours ago</a></span> <span id=\"unv_26657332\"></span> | <a href=\"hide?id=26657332&amp;goto=news\">hide</a> | <a href=\"item?id=26657332\">17&nbsp;comments</a>              </td></tr>\n",
      "      <tr class=\"spacer\" style=\"height:5px\"></tr>\n",
      "                <tr class='athing' id='26657436'>\n",
      "      <td align=\"right\" valign=\"top\" class=\"title\"><span class=\"rank\">11.</span></td>      <td valign=\"top\" class=\"votelinks\"><center><a id='up_26657436' href='vote?id=26657436&amp;how=up&amp;goto=news'><div class='votearrow' title='upvote'></div></a></center></td><td class=\"title\"><a href=\"https://asia.nikkei.com/Business/Tech/Semiconductors/TSMC-cancels-chip-price-cuts-and-promises-100bn-investment-surge\" class=\"storylink\">TSMC cancels chip price cuts and promises $100B investment surge</a><span class=\"sitebit comhead\"> (<a href=\"from?site=nikkei.com\"><span class=\"sitestr\">nikkei.com</span></a>)</span></td></tr><tr><td colspan=\"2\"></td><td class=\"subtext\">\n",
      "        <span class=\"score\" id=\"score_26657436\">99 points</span> by <a href=\"user?id=baybal2\" class=\"hnuser\">baybal2</a> <span class=\"age\"><a href=\"item?id=26657436\">5 hours ago</a></span> <span id=\"unv_26657436\"></span> | <a href=\"hide?id=26657436&amp;goto=news\">hide</a> | <a href=\"item?id=26657436\">69&nbsp;comments</a>              </td></tr>\n",
      "      <tr class=\"spacer\" style=\"height:5px\"></tr>\n",
      "                <tr class='athing' id='26656759'>\n",
      "      <td align=\"right\" valign=\"top\" class=\"title\"><span class=\"rank\">12.</span></td>      <td valign=\"top\" class=\"votelinks\"><center><a id='up_26656759' href='vote?id=26656759&amp;how=up&amp;goto=news'><div class='votearrow' title='upvote'></div></a></center></td><td class=\"title\"><a href=\"https://dorper.me/articles/unileak.aspx\" class=\"storylink\">Security Breach at US Universities</a><span class=\"sitebit comhead\"> (<a href=\"from?site=dorper.me\"><span class=\"sitestr\">dorper.me</span></a>)</span></td></tr><tr><td colspan=\"2\"></td><td class=\"subtext\">\n",
      "        <span class=\"score\" id=\"score_26656759\">200 points</span> by <a href=\"user?id=babelfish\" class=\"hnuser\">babelfish</a> <span class=\"age\"><a href=\"item?id=26656759\">7 hours ago</a></span> <span id=\"unv_26656759\"></span> | <a href=\"hide?id=26656759&amp;goto=news\">hide</a> | <a href=\"item?id=26656759\">109&nbsp;comments</a>              </td></tr>\n",
      "      <tr class=\"spacer\" style=\"height:5px\"></tr>\n",
      "                <tr class='athing' id='26658271'>\n",
      "      <td align=\"right\" valign=\"top\" class=\"title\"><span class=\"rank\">13.</span></td>      <td valign=\"top\" class=\"votelinks\"><center><a id='up_26658271' href='vote?id=26658271&amp;how=up&amp;goto=news'><div class='votearrow' title='upvote'></div></a></center></td><td class=\"title\"><a href=\"https://cr.openjdk.java.net/~briangoetz/erasure.html\" class=\"storylink\">How we got the [Java] generics we have</a><span class=\"sitebit comhead\"> (<a href=\"from?site=java.net\"><span class=\"sitestr\">java.net</span></a>)</span></td></tr><tr><td colspan=\"2\"></td><td class=\"subtext\">\n",
      "        <span class=\"score\" id=\"score_26658271\">17 points</span> by <a href=\"user?id=kasperni\" class=\"hnuser\">kasperni</a> <span class=\"age\"><a href=\"item?id=26658271\">3 hours ago</a></span> <span id=\"unv_26658271\"></span> | <a href=\"hide?id=26658271&amp;goto=news\">hide</a> | <a href=\"item?id=26658271\">19&nbsp;comments</a>              </td></tr>\n",
      "      <tr class=\"spacer\" style=\"height:5px\"></tr>\n",
      "                <tr class='athing' id='26653807'>\n",
      "      <td align=\"right\" valign=\"top\" class=\"title\"><span class=\"rank\">14.</span></td>      <td valign=\"top\" class=\"votelinks\"><center><a id='up_26653807' href='vote?id=26653807&amp;how=up&amp;goto=news'><div class='votearrow' title='upvote'></div></a></center></td><td class=\"title\"><a href=\"https://blog.google/products/maps/redefining-what-map-can-be-new-information-and-ai\" class=\"storylink\">Redefining what a map can be with new information and AI</a><span class=\"sitebit comhead\"> (<a href=\"from?site=blog.google\"><span class=\"sitestr\">blog.google</span></a>)</span></td></tr><tr><td colspan=\"2\"></td><td class=\"subtext\">\n",
      "        <span class=\"score\" id=\"score_26653807\">278 points</span> by <a href=\"user?id=ra7\" class=\"hnuser\">ra7</a> <span class=\"age\"><a href=\"item?id=26653807\">14 hours ago</a></span> <span id=\"unv_26653807\"></span> | <a href=\"hide?id=26653807&amp;goto=news\">hide</a> | <a href=\"item?id=26653807\">260&nbsp;comments</a>              </td></tr>\n",
      "      <tr class=\"spacer\" style=\"height:5px\"></tr>\n",
      "                <tr class='athing' id='26655256'>\n",
      "      <td align=\"right\" valign=\"top\" class=\"title\"><span class=\"rank\">15.</span></td>      <td valign=\"top\" class=\"votelinks\"><center><a id='up_26655256' href='vote?id=26655256&amp;how=up&amp;goto=news'><div class='votearrow' title='upvote'></div></a></center></td><td class=\"title\"><a href=\"https://blog.google/threat-analysis-group/update-campaign-targeting-security-researchers/\" class=\"storylink\">Update on campaign targeting security researchers</a><span class=\"sitebit comhead\"> (<a href=\"from?site=blog.google\"><span class=\"sitestr\">blog.google</span></a>)</span></td></tr><tr><td colspan=\"2\"></td><td class=\"subtext\">\n",
      "        <span class=\"score\" id=\"score_26655256\">216 points</span> by <a href=\"user?id=arkadiyt\" class=\"hnuser\">arkadiyt</a> <span class=\"age\"><a href=\"item?id=26655256\">12 hours ago</a></span> <span id=\"unv_26655256\"></span> | <a href=\"hide?id=26655256&amp;goto=news\">hide</a> | <a href=\"item?id=26655256\">54&nbsp;comments</a>              </td></tr>\n",
      "      <tr class=\"spacer\" style=\"height:5px\"></tr>\n",
      "                <tr class='athing' id='26658317'>\n",
      "      <td align=\"right\" valign=\"top\" class=\"title\"><span class=\"rank\">16.</span></td>      <td valign=\"top\" class=\"votelinks\"><center><a id='up_26658317' href='vote?id=26658317&amp;how=up&amp;goto=news'><div class='votearrow' title='upvote'></div></a></center></td><td class=\"title\"><a href=\"https://blog.elementary.io/ten-years/\" class=\"storylink\">Elementary OS rounds out its first decade</a><span class=\"sitebit comhead\"> (<a href=\"from?site=elementary.io\"><span class=\"sitestr\">elementary.io</span></a>)</span></td></tr><tr><td colspan=\"2\"></td><td class=\"subtext\">\n",
      "        <span class=\"score\" id=\"score_26658317\">21 points</span> by <a href=\"user?id=mariuz\" class=\"hnuser\">mariuz</a> <span class=\"age\"><a href=\"item?id=26658317\">3 hours ago</a></span> <span id=\"unv_26658317\"></span> | <a href=\"hide?id=26658317&amp;goto=news\">hide</a> | <a href=\"item?id=26658317\">5&nbsp;comments</a>              </td></tr>\n",
      "      <tr class=\"spacer\" style=\"height:5px\"></tr>\n",
      "                <tr class='athing' id='26641772'>\n",
      "      <td align=\"right\" valign=\"top\" class=\"title\"><span class=\"rank\">17.</span></td>      <td valign=\"top\" class=\"votelinks\"><center><a id='up_26641772' href='vote?id=26641772&amp;how=up&amp;goto=news'><div class='votearrow' title='upvote'></div></a></center></td><td class=\"title\"><a href=\"https://www.smbaker.com/raspberry-pi-floppy-controller-board\" class=\"storylink\">Raspberry Pi Floppy Controller Board</a><span class=\"sitebit comhead\"> (<a href=\"from?site=smbaker.com\"><span class=\"sitestr\">smbaker.com</span></a>)</span></td></tr><tr><td colspan=\"2\"></td><td class=\"subtext\">\n",
      "        <span class=\"score\" id=\"score_26641772\">88 points</span> by <a href=\"user?id=zdw\" class=\"hnuser\">zdw</a> <span class=\"age\"><a href=\"item?id=26641772\">9 hours ago</a></span> <span id=\"unv_26641772\"></span> | <a href=\"hide?id=26641772&amp;goto=news\">hide</a> | <a href=\"item?id=26641772\">30&nbsp;comments</a>              </td></tr>\n",
      "      <tr class=\"spacer\" style=\"height:5px\"></tr>\n",
      "                <tr class='athing' id='26633708'>\n",
      "      <td align=\"right\" valign=\"top\" class=\"title\"><span class=\"rank\">18.</span></td>      <td valign=\"top\" class=\"votelinks\"><center><a id='up_26633708' href='vote?id=26633708&amp;how=up&amp;goto=news'><div class='votearrow' title='upvote'></div></a></center></td><td class=\"title\"><a href=\"https://github.com/wez/wezterm\" class=\"storylink\">Wezterm – A GPU-accelerated cross-platform terminal emulator and multiplexer</a><span class=\"sitebit comhead\"> (<a href=\"from?site=github.com/wez\"><span class=\"sitestr\">github.com/wez</span></a>)</span></td></tr><tr><td colspan=\"2\"></td><td class=\"subtext\">\n",
      "        <span class=\"score\" id=\"score_26633708\">158 points</span> by <a href=\"user?id=yagizdegirmenci\" class=\"hnuser\">yagizdegirmenci</a> <span class=\"age\"><a href=\"item?id=26633708\">12 hours ago</a></span> <span id=\"unv_26633708\"></span> | <a href=\"hide?id=26633708&amp;goto=news\">hide</a> | <a href=\"item?id=26633708\">95&nbsp;comments</a>              </td></tr>\n",
      "      <tr class=\"spacer\" style=\"height:5px\"></tr>\n",
      "                <tr class='athing' id='26657155'>\n",
      "      <td align=\"right\" valign=\"top\" class=\"title\"><span class=\"rank\">19.</span></td>      <td valign=\"top\" class=\"votelinks\"><center><a id='up_26657155' href='vote?id=26657155&amp;how=up&amp;goto=news'><div class='votearrow' title='upvote'></div></a></center></td><td class=\"title\"><a href=\"https://longbets.org/240/\" class=\"storylink\">By 2012, scientists will have announced a cure for breast cancer (2006-2012)</a><span class=\"sitebit comhead\"> (<a href=\"from?site=longbets.org\"><span class=\"sitestr\">longbets.org</span></a>)</span></td></tr><tr><td colspan=\"2\"></td><td class=\"subtext\">\n",
      "        <span class=\"score\" id=\"score_26657155\">31 points</span> by <a href=\"user?id=breck\" class=\"hnuser\">breck</a> <span class=\"age\"><a href=\"item?id=26657155\">6 hours ago</a></span> <span id=\"unv_26657155\"></span> | <a href=\"hide?id=26657155&amp;goto=news\">hide</a> | <a href=\"item?id=26657155\">37&nbsp;comments</a>              </td></tr>\n",
      "      <tr class=\"spacer\" style=\"height:5px\"></tr>\n",
      "                <tr class='athing' id='26631855'>\n",
      "      <td align=\"right\" valign=\"top\" class=\"title\"><span class=\"rank\">20.</span></td>      <td valign=\"top\" class=\"votelinks\"><center><a id='up_26631855' href='vote?id=26631855&amp;how=up&amp;goto=news'><div class='votearrow' title='upvote'></div></a></center></td><td class=\"title\"><a href=\"https://www.linusakesson.net/sixtyforgan/index.php\" class=\"storylink\">The sixtyforgan: Commodore 64 equipped with a spring reverb</a><span class=\"sitebit comhead\"> (<a href=\"from?site=linusakesson.net\"><span class=\"sitestr\">linusakesson.net</span></a>)</span></td></tr><tr><td colspan=\"2\"></td><td class=\"subtext\">\n",
      "        <span class=\"score\" id=\"score_26631855\">201 points</span> by <a href=\"user?id=sohkamyung\" class=\"hnuser\">sohkamyung</a> <span class=\"age\"><a href=\"item?id=26631855\">15 hours ago</a></span> <span id=\"unv_26631855\"></span> | <a href=\"hide?id=26631855&amp;goto=news\">hide</a> | <a href=\"item?id=26631855\">35&nbsp;comments</a>              </td></tr>\n",
      "      <tr class=\"spacer\" style=\"height:5px\"></tr>\n",
      "                <tr class='athing' id='26642398'>\n",
      "      <td align=\"right\" valign=\"top\" class=\"title\"><span class=\"rank\">21.</span></td>      <td valign=\"top\" class=\"votelinks\"><center><a id='up_26642398' href='vote?id=26642398&amp;how=up&amp;goto=news'><div class='votearrow' title='upvote'></div></a></center></td><td class=\"title\"><a href=\"https://newcriterion.com/issues/2021/4/on-getting-poetry\" class=\"storylink\">On “Getting” Poetry</a><span class=\"sitebit comhead\"> (<a href=\"from?site=newcriterion.com\"><span class=\"sitestr\">newcriterion.com</span></a>)</span></td></tr><tr><td colspan=\"2\"></td><td class=\"subtext\">\n",
      "        <span class=\"score\" id=\"score_26642398\">24 points</span> by <a href=\"user?id=apollinaire\" class=\"hnuser\">apollinaire</a> <span class=\"age\"><a href=\"item?id=26642398\">5 hours ago</a></span> <span id=\"unv_26642398\"></span> | <a href=\"hide?id=26642398&amp;goto=news\">hide</a> | <a href=\"item?id=26642398\">22&nbsp;comments</a>              </td></tr>\n",
      "      <tr class=\"spacer\" style=\"height:5px\"></tr>\n",
      "                <tr class='athing' id='26656952'>\n",
      "      <td align=\"right\" valign=\"top\" class=\"title\"><span class=\"rank\">22.</span></td>      <td valign=\"top\" class=\"votelinks\"><center><a id='up_26656952' href='vote?id=26656952&amp;how=up&amp;goto=news'><div class='votearrow' title='upvote'></div></a></center></td><td class=\"title\"><a href=\"https://nibblestew.blogspot.com/2021/03/never-use-environment-variables-for.html\" class=\"storylink\">Don’t use environment variables for configuration</a><span class=\"sitebit comhead\"> (<a href=\"from?site=nibblestew.blogspot.com\"><span class=\"sitestr\">nibblestew.blogspot.com</span></a>)</span></td></tr><tr><td colspan=\"2\"></td><td class=\"subtext\">\n",
      "        <span class=\"score\" id=\"score_26656952\">32 points</span> by <a href=\"user?id=ingve\" class=\"hnuser\">ingve</a> <span class=\"age\"><a href=\"item?id=26656952\">7 hours ago</a></span> <span id=\"unv_26656952\"></span> | <a href=\"hide?id=26656952&amp;goto=news\">hide</a> | <a href=\"item?id=26656952\">60&nbsp;comments</a>              </td></tr>\n",
      "      <tr class=\"spacer\" style=\"height:5px\"></tr>\n",
      "                <tr class='athing' id='26653788'>\n",
      "      <td align=\"right\" valign=\"top\" class=\"title\"><span class=\"rank\">23.</span></td>      <td valign=\"top\" class=\"votelinks\"><center><a id='up_26653788' href='vote?id=26653788&amp;how=up&amp;goto=news'><div class='votearrow' title='upvote'></div></a></center></td><td class=\"title\"><a href=\"http://www2.cruzio.com/~beachhi/graduation.html\" class=\"storylink\">Beach High School</a><span class=\"sitebit comhead\"> (<a href=\"from?site=cruzio.com\"><span class=\"sitestr\">cruzio.com</span></a>)</span></td></tr><tr><td colspan=\"2\"></td><td class=\"subtext\">\n",
      "        <span class=\"score\" id=\"score_26653788\">169 points</span> by <a href=\"user?id=PebblesRox\" class=\"hnuser\">PebblesRox</a> <span class=\"age\"><a href=\"item?id=26653788\">14 hours ago</a></span> <span id=\"unv_26653788\"></span> | <a href=\"hide?id=26653788&amp;goto=news\">hide</a> | <a href=\"item?id=26653788\">66&nbsp;comments</a>              </td></tr>\n",
      "      <tr class=\"spacer\" style=\"height:5px\"></tr>\n",
      "                <tr class='athing' id='26656665'>\n",
      "      <td align=\"right\" valign=\"top\" class=\"title\"><span class=\"rank\">24.</span></td>      <td valign=\"top\" class=\"votelinks\"><center><a id='up_26656665' href='vote?id=26656665&amp;how=up&amp;goto=news'><div class='votearrow' title='upvote'></div></a></center></td><td class=\"title\"><a href=\"https://philsiarri.medium.com/the-clubhouse-clones-are-coming-4b927ccdac4e\" class=\"storylink\">Clubhouse clones are coming</a><span class=\"sitebit comhead\"> (<a href=\"from?site=philsiarri.medium.com\"><span class=\"sitestr\">philsiarri.medium.com</span></a>)</span></td></tr><tr><td colspan=\"2\"></td><td class=\"subtext\">\n",
      "        <span class=\"score\" id=\"score_26656665\">50 points</span> by <a href=\"user?id=finphil\" class=\"hnuser\">finphil</a> <span class=\"age\"><a href=\"item?id=26656665\">8 hours ago</a></span> <span id=\"unv_26656665\"></span> | <a href=\"hide?id=26656665&amp;goto=news\">hide</a> | <a href=\"item?id=26656665\">57&nbsp;comments</a>              </td></tr>\n",
      "      <tr class=\"spacer\" style=\"height:5px\"></tr>\n",
      "                <tr class='athing' id='26657803'>\n",
      "      <td align=\"right\" valign=\"top\" class=\"title\"><span class=\"rank\">25.</span></td>      <td valign=\"top\" class=\"votelinks\"><center><a id='up_26657803' href='vote?id=26657803&amp;how=up&amp;goto=news'><div class='votearrow' title='upvote'></div></a></center></td><td class=\"title\"><a href=\"item?id=26657803\" class=\"storylink\">Ask HN: Best low-/no-code solution for simple web-based database frontends</a></td></tr><tr><td colspan=\"2\"></td><td class=\"subtext\">\n",
      "        <span class=\"score\" id=\"score_26657803\">75 points</span> by <a href=\"user?id=codechoir\" class=\"hnuser\">codechoir</a> <span class=\"age\"><a href=\"item?id=26657803\">4 hours ago</a></span> <span id=\"unv_26657803\"></span> | <a href=\"hide?id=26657803&amp;goto=news\">hide</a> | <a href=\"item?id=26657803\">36&nbsp;comments</a>              </td></tr>\n",
      "      <tr class=\"spacer\" style=\"height:5px\"></tr>\n",
      "                <tr class='athing' id='26655939'>\n",
      "      <td align=\"right\" valign=\"top\" class=\"title\"><span class=\"rank\">26.</span></td>      <td valign=\"top\" class=\"votelinks\"><center><a id='up_26655939' href='vote?id=26655939&amp;how=up&amp;goto=news'><div class='votearrow' title='upvote'></div></a></center></td><td class=\"title\"><a href=\"https://arxiv.org/abs/2103.15829\" class=\"storylink\">Kepler's Goat Herd: An Exact Solution for Elliptical Orbit Evolution</a><span class=\"sitebit comhead\"> (<a href=\"from?site=arxiv.org\"><span class=\"sitestr\">arxiv.org</span></a>)</span></td></tr><tr><td colspan=\"2\"></td><td class=\"subtext\">\n",
      "        <span class=\"score\" id=\"score_26655939\">45 points</span> by <a href=\"user?id=mkoc\" class=\"hnuser\">mkoc</a> <span class=\"age\"><a href=\"item?id=26655939\">10 hours ago</a></span> <span id=\"unv_26655939\"></span> | <a href=\"hide?id=26655939&amp;goto=news\">hide</a> | <a href=\"item?id=26655939\">7&nbsp;comments</a>              </td></tr>\n",
      "      <tr class=\"spacer\" style=\"height:5px\"></tr>\n",
      "                <tr class='athing' id='26653867'>\n",
      "      <td align=\"right\" valign=\"top\" class=\"title\"><span class=\"rank\">27.</span></td>      <td valign=\"top\" class=\"votelinks\"><center><a id='up_26653867' href='vote?id=26653867&amp;how=up&amp;goto=news'><div class='votearrow' title='upvote'></div></a></center></td><td class=\"title\"><a href=\"https://www.cnbc.com/2021/03/31/google-speeds-partial-office-reopening-and-puts-limits-on-remote-work.html\" class=\"storylink\">Google is accelerating reopening of offices and putting limits on remote work</a><span class=\"sitebit comhead\"> (<a href=\"from?site=cnbc.com\"><span class=\"sitestr\">cnbc.com</span></a>)</span></td></tr><tr><td colspan=\"2\"></td><td class=\"subtext\">\n",
      "        <span class=\"score\" id=\"score_26653867\">278 points</span> by <a href=\"user?id=richardknop\" class=\"hnuser\">richardknop</a> <span class=\"age\"><a href=\"item?id=26653867\">14 hours ago</a></span> <span id=\"unv_26653867\"></span> | <a href=\"hide?id=26653867&amp;goto=news\">hide</a> | <a href=\"item?id=26653867\">426&nbsp;comments</a>              </td></tr>\n",
      "      <tr class=\"spacer\" style=\"height:5px\"></tr>\n",
      "                <tr class='athing' id='26632907'>\n",
      "      <td align=\"right\" valign=\"top\" class=\"title\"><span class=\"rank\">28.</span></td>      <td valign=\"top\" class=\"votelinks\"><center><a id='up_26632907' href='vote?id=26632907&amp;how=up&amp;goto=news'><div class='votearrow' title='upvote'></div></a></center></td><td class=\"title\"><a href=\"https://dl.acm.org/doi/pdf/10.1145/1562764.1562779\" class=\"storylink\">Retrospective: An Axiomatic Basis for Computer Programming</a><span class=\"sitebit comhead\"> (<a href=\"from?site=acm.org\"><span class=\"sitestr\">acm.org</span></a>)</span></td></tr><tr><td colspan=\"2\"></td><td class=\"subtext\">\n",
      "        <span class=\"score\" id=\"score_26632907\">37 points</span> by <a href=\"user?id=todsacerdoti\" class=\"hnuser\">todsacerdoti</a> <span class=\"age\"><a href=\"item?id=26632907\">11 hours ago</a></span> <span id=\"unv_26632907\"></span> | <a href=\"hide?id=26632907&amp;goto=news\">hide</a> | <a href=\"item?id=26632907\">3&nbsp;comments</a>              </td></tr>\n",
      "      <tr class=\"spacer\" style=\"height:5px\"></tr>\n",
      "                <tr class='athing' id='26641748'>\n",
      "      <td align=\"right\" valign=\"top\" class=\"title\"><span class=\"rank\">29.</span></td>      <td valign=\"top\" class=\"votelinks\"><center><a id='up_26641748' href='vote?id=26641748&amp;how=up&amp;goto=news'><div class='votearrow' title='upvote'></div></a></center></td><td class=\"title\"><a href=\"https://advances.sciencemag.org/content/2/8/e1600451\" class=\"storylink\">Humans display a few consistent behavioral phenotypes in two player games (2016)</a><span class=\"sitebit comhead\"> (<a href=\"from?site=advances.sciencemag.org\"><span class=\"sitestr\">advances.sciencemag.org</span></a>)</span></td></tr><tr><td colspan=\"2\"></td><td class=\"subtext\">\n",
      "        <span class=\"score\" id=\"score_26641748\">56 points</span> by <a href=\"user?id=tjalfi\" class=\"hnuser\">tjalfi</a> <span class=\"age\"><a href=\"item?id=26641748\">10 hours ago</a></span> <span id=\"unv_26641748\"></span> | <a href=\"hide?id=26641748&amp;goto=news\">hide</a> | <a href=\"item?id=26641748\">13&nbsp;comments</a>              </td></tr>\n",
      "      <tr class=\"spacer\" style=\"height:5px\"></tr>\n",
      "                <tr class='athing' id='26653950'>\n",
      "      <td align=\"right\" valign=\"top\" class=\"title\"><span class=\"rank\">30.</span></td>      <td valign=\"top\" class=\"votelinks\"><center><a id='up_26653950' href='vote?id=26653950&amp;how=up&amp;goto=news'><div class='votearrow' title='upvote'></div></a></center></td><td class=\"title\"><a href=\"http://med.stanford.edu/news/all-news/2021/03/Cancer-diagnoses-implies-patients-wait-for-Medicare.html\" class=\"storylink\">Jump in cancer diagnoses at 65 implies patients wait for Medicare: study</a><span class=\"sitebit comhead\"> (<a href=\"from?site=stanford.edu\"><span class=\"sitestr\">stanford.edu</span></a>)</span></td></tr><tr><td colspan=\"2\"></td><td class=\"subtext\">\n",
      "        <span class=\"score\" id=\"score_26653950\">508 points</span> by <a href=\"user?id=hardtke\" class=\"hnuser\">hardtke</a> <span class=\"age\"><a href=\"item?id=26653950\">14 hours ago</a></span> <span id=\"unv_26653950\"></span> | <a href=\"hide?id=26653950&amp;goto=news\">hide</a> | <a href=\"item?id=26653950\">462&nbsp;comments</a>              </td></tr>\n",
      "      <tr class=\"spacer\" style=\"height:5px\"></tr>\n",
      "            <tr class=\"morespace\" style=\"height:10px\"></tr><tr><td colspan=\"2\"></td><td class=\"title\"><a href=\"news?p=2\" class=\"morelink\" rel=\"next\">More</a></td></tr>\n",
      "  </table>\n",
      "</td></tr>\n",
      "<tr><td><img src=\"s.gif\" height=\"10\" width=\"0\"><table width=\"100%\" cellspacing=\"0\" cellpadding=\"1\"><tr><td bgcolor=\"#ff6600\"></td></tr></table><br><center><span class=\"yclinks\"><a href=\"newsguidelines.html\">Guidelines</a>\n",
      "        | <a href=\"newsfaq.html\">FAQ</a>\n",
      "        | <a href=\"lists\">Lists</a>\n",
      "        | <a href=\"https://github.com/HackerNews/API\">API</a>\n",
      "        | <a href=\"security.html\">Security</a>\n",
      "        | <a href=\"http://www.ycombinator.com/legal/\">Legal</a>\n",
      "        | <a href=\"http://www.ycombinator.com/apply/\">Apply to YC</a>\n",
      "        | <a href=\"mailto:hn@ycombinator.com\">Contact</a></span><br><br><form method=\"get\" action=\"//hn.algolia.com/\">Search:\n",
      "          <input type=\"text\" name=\"q\" value=\"\" size=\"17\" autocorrect=\"off\" spellcheck=\"false\" autocapitalize=\"off\" autocomplete=\"false\"></form>\n",
      "            </center></td></tr>\n",
      "      </table></center></body><script type='text/javascript' src='hn.js?b4yQXyUpDNwZ0ooViyaE'></script></html>\n",
      "\n"
     ]
    }
   ],
   "source": [
    "import requests\n",
    "\n",
    "# Fetch a web page\n",
    "r = requests.get(\"https://news.ycombinator.com\")\n",
    "print(r.text)"
   ]
  },
  {
   "cell_type": "code",
   "execution_count": 5,
   "metadata": {},
   "outputs": [
    {
     "name": "stdout",
     "output_type": "stream",
     "text": [
      "\n",
      "        \n",
      "          \n",
      "        Hacker News\n",
      "        \n",
      "                  Hacker News\n",
      "              new | past | comments | ask | show | jobs | submit            \n",
      "                              login\n",
      "                          \n",
      "              \n",
      "\n",
      "              \n",
      "      1.      Pro¹X: A Linux smartphone with slideout keyboard (fxtec.com)\n",
      "        42 points by phantom_oracle 1 hour ago  | hide | 19&nbsp;comments              \n",
      "      \n",
      "                \n",
      "      2.      Voxel Space: Comanche's terrain rendering in less than 20 lines of code (2020) (github.com/s-macke)\n",
      "        133 points by danbolt 3 hours ago  | hide | 15&nbsp;comments              \n",
      "      \n",
      "                \n",
      "      3.      Show HN: Mail Studio – IDE for designing responsive emails (mailstudio.app)\n",
      "        15 points by martinaglv 15 minutes ago  | hide | 3&nbsp;comments              \n",
      "      \n",
      "                \n",
      "      4.      Reverse Engineering a Mysterious UDP Stream in My Hotel (gkbrk.com)\n",
      "        82 points by crecker 2 hours ago  | hide | 18&nbsp;comments              \n",
      "      \n",
      "                \n",
      "      5.      Latest EmDrive tests at Dresden University shows it does not develop any thrust (grenzwissenschaft-aktuell.de)\n",
      "        358 points by sohkamyung 9 hours ago  | hide | 177&nbsp;comments              \n",
      "      \n",
      "                \n",
      "      6.      Arabian Nights (pgdp.net)\n",
      "        101 points by sohkamyung 4 hours ago  | hide | 52&nbsp;comments              \n",
      "      \n",
      "                \n",
      "      7.      By 10 (YC S17) Is Hiring Recruiting Account Manager (docs.google.com)\n",
      "        40 minutes ago | hide      \n",
      "      \n",
      "                \n",
      "      8.      Category Theory: Orders (boris-marinov.github.io)\n",
      "        52 points by todsacerdoti 3 hours ago  | hide | 4&nbsp;comments              \n",
      "      \n",
      "                \n",
      "      9.      LineageOS 18.1 (lineageos.org)\n",
      "        95 points by danielg0 4 hours ago  | hide | 20&nbsp;comments              \n",
      "      \n",
      "                \n",
      "      10.      Great Bitter Lake Association, the Sort-of-Micronation Formed in the Suez Canal (99percentinvisible.org)\n",
      "        116 points by mellowhype 5 hours ago  | hide | 17&nbsp;comments              \n",
      "      \n",
      "                \n",
      "      11.      TSMC cancels chip price cuts and promises $100B investment surge (nikkei.com)\n",
      "        99 points by baybal2 5 hours ago  | hide | 69&nbsp;comments              \n",
      "      \n",
      "                \n",
      "      12.      Security Breach at US Universities (dorper.me)\n",
      "        200 points by babelfish 7 hours ago  | hide | 109&nbsp;comments              \n",
      "      \n",
      "                \n",
      "      13.      How we got the [Java] generics we have (java.net)\n",
      "        17 points by kasperni 3 hours ago  | hide | 19&nbsp;comments              \n",
      "      \n",
      "                \n",
      "      14.      Redefining what a map can be with new information and AI (blog.google)\n",
      "        278 points by ra7 14 hours ago  | hide | 260&nbsp;comments              \n",
      "      \n",
      "                \n",
      "      15.      Update on campaign targeting security researchers (blog.google)\n",
      "        216 points by arkadiyt 12 hours ago  | hide | 54&nbsp;comments              \n",
      "      \n",
      "                \n",
      "      16.      Elementary OS rounds out its first decade (elementary.io)\n",
      "        21 points by mariuz 3 hours ago  | hide | 5&nbsp;comments              \n",
      "      \n",
      "                \n",
      "      17.      Raspberry Pi Floppy Controller Board (smbaker.com)\n",
      "        88 points by zdw 9 hours ago  | hide | 30&nbsp;comments              \n",
      "      \n",
      "                \n",
      "      18.      Wezterm – A GPU-accelerated cross-platform terminal emulator and multiplexer (github.com/wez)\n",
      "        158 points by yagizdegirmenci 12 hours ago  | hide | 95&nbsp;comments              \n",
      "      \n",
      "                \n",
      "      19.      By 2012, scientists will have announced a cure for breast cancer (2006-2012) (longbets.org)\n",
      "        31 points by breck 6 hours ago  | hide | 37&nbsp;comments              \n",
      "      \n",
      "                \n",
      "      20.      The sixtyforgan: Commodore 64 equipped with a spring reverb (linusakesson.net)\n",
      "        201 points by sohkamyung 15 hours ago  | hide | 35&nbsp;comments              \n",
      "      \n",
      "                \n",
      "      21.      On “Getting” Poetry (newcriterion.com)\n",
      "        24 points by apollinaire 5 hours ago  | hide | 22&nbsp;comments              \n",
      "      \n",
      "                \n",
      "      22.      Don’t use environment variables for configuration (nibblestew.blogspot.com)\n",
      "        32 points by ingve 7 hours ago  | hide | 60&nbsp;comments              \n",
      "      \n",
      "                \n",
      "      23.      Beach High School (cruzio.com)\n",
      "        169 points by PebblesRox 14 hours ago  | hide | 66&nbsp;comments              \n",
      "      \n",
      "                \n",
      "      24.      Clubhouse clones are coming (philsiarri.medium.com)\n",
      "        50 points by finphil 8 hours ago  | hide | 57&nbsp;comments              \n",
      "      \n",
      "                \n",
      "      25.      Ask HN: Best low-/no-code solution for simple web-based database frontends\n",
      "        75 points by codechoir 4 hours ago  | hide | 36&nbsp;comments              \n",
      "      \n",
      "                \n",
      "      26.      Kepler's Goat Herd: An Exact Solution for Elliptical Orbit Evolution (arxiv.org)\n",
      "        45 points by mkoc 10 hours ago  | hide | 7&nbsp;comments              \n",
      "      \n",
      "                \n",
      "      27.      Google is accelerating reopening of offices and putting limits on remote work (cnbc.com)\n",
      "        278 points by richardknop 14 hours ago  | hide | 426&nbsp;comments              \n",
      "      \n",
      "                \n",
      "      28.      Retrospective: An Axiomatic Basis for Computer Programming (acm.org)\n",
      "        37 points by todsacerdoti 11 hours ago  | hide | 3&nbsp;comments              \n",
      "      \n",
      "                \n",
      "      29.      Humans display a few consistent behavioral phenotypes in two player games (2016) (advances.sciencemag.org)\n",
      "        56 points by tjalfi 10 hours ago  | hide | 13&nbsp;comments              \n",
      "      \n",
      "                \n",
      "      30.      Jump in cancer diagnoses at 65 implies patients wait for Medicare: study (stanford.edu)\n",
      "        508 points by hardtke 14 hours ago  | hide | 462&nbsp;comments              \n",
      "      \n",
      "            More\n",
      "  \n",
      "\n",
      "Guidelines\n",
      "        | FAQ\n",
      "        | Lists\n",
      "        | API\n",
      "        | Security\n",
      "        | Legal\n",
      "        | Apply to YC\n",
      "        | ContactSearch:\n",
      "          \n",
      "            \n",
      "      \n",
      "\n"
     ]
    }
   ],
   "source": [
    "import re\n",
    "\n",
    "# Remove HTML tags using RegEx\n",
    "pattern = re.compile(r'<.*?>')  # tags look like <...>\n",
    "print(pattern.sub('', r.text))  # replace them with blank"
   ]
  },
  {
   "cell_type": "code",
   "execution_count": 6,
   "metadata": {},
   "outputs": [
    {
     "name": "stdout",
     "output_type": "stream",
     "text": [
      "\n",
      "        \n",
      "          \n",
      "        Hacker News\n",
      "        \n",
      "                  Hacker News\n",
      "              new | past | comments | ask | show | jobs | submit            \n",
      "                              login\n",
      "                          \n",
      "              \n",
      "\n",
      "              \n",
      "      1.      Pro¹X: A Linux smartphone with slideout keyboard (fxtec.com)\n",
      "        42 points by phantom_oracle 1 hour ago  | hide | 19 comments              \n",
      "      \n",
      "                \n",
      "      2.      Voxel Space: Comanche's terrain rendering in less than 20 lines of code (2020) (github.com/s-macke)\n",
      "        133 points by danbolt 3 hours ago  | hide | 15 comments              \n",
      "      \n",
      "                \n",
      "      3.      Show HN: Mail Studio – IDE for designing responsive emails (mailstudio.app)\n",
      "        15 points by martinaglv 15 minutes ago  | hide | 3 comments              \n",
      "      \n",
      "                \n",
      "      4.      Reverse Engineering a Mysterious UDP Stream in My Hotel (gkbrk.com)\n",
      "        82 points by crecker 2 hours ago  | hide | 18 comments              \n",
      "      \n",
      "                \n",
      "      5.      Latest EmDrive tests at Dresden University shows it does not develop any thrust (grenzwissenschaft-aktuell.de)\n",
      "        358 points by sohkamyung 9 hours ago  | hide | 177 comments              \n",
      "      \n",
      "                \n",
      "      6.      Arabian Nights (pgdp.net)\n",
      "        101 points by sohkamyung 4 hours ago  | hide | 52 comments              \n",
      "      \n",
      "                \n",
      "      7.      By 10 (YC S17) Is Hiring Recruiting Account Manager (docs.google.com)\n",
      "        40 minutes ago | hide      \n",
      "      \n",
      "                \n",
      "      8.      Category Theory: Orders (boris-marinov.github.io)\n",
      "        52 points by todsacerdoti 3 hours ago  | hide | 4 comments              \n",
      "      \n",
      "                \n",
      "      9.      LineageOS 18.1 (lineageos.org)\n",
      "        95 points by danielg0 4 hours ago  | hide | 20 comments              \n",
      "      \n",
      "                \n",
      "      10.      Great Bitter Lake Association, the Sort-of-Micronation Formed in the Suez Canal (99percentinvisible.org)\n",
      "        116 points by mellowhype 5 hours ago  | hide | 17 comments              \n",
      "      \n",
      "                \n",
      "      11.      TSMC cancels chip price cuts and promises $100B investment surge (nikkei.com)\n",
      "        99 points by baybal2 5 hours ago  | hide | 69 comments              \n",
      "      \n",
      "                \n",
      "      12.      Security Breach at US Universities (dorper.me)\n",
      "        200 points by babelfish 7 hours ago  | hide | 109 comments              \n",
      "      \n",
      "                \n",
      "      13.      How we got the [Java] generics we have (java.net)\n",
      "        17 points by kasperni 3 hours ago  | hide | 19 comments              \n",
      "      \n",
      "                \n",
      "      14.      Redefining what a map can be with new information and AI (blog.google)\n",
      "        278 points by ra7 14 hours ago  | hide | 260 comments              \n",
      "      \n",
      "                \n",
      "      15.      Update on campaign targeting security researchers (blog.google)\n",
      "        216 points by arkadiyt 12 hours ago  | hide | 54 comments              \n",
      "      \n",
      "                \n",
      "      16.      Elementary OS rounds out its first decade (elementary.io)\n",
      "        21 points by mariuz 3 hours ago  | hide | 5 comments              \n",
      "      \n",
      "                \n",
      "      17.      Raspberry Pi Floppy Controller Board (smbaker.com)\n",
      "        88 points by zdw 9 hours ago  | hide | 30 comments              \n",
      "      \n",
      "                \n",
      "      18.      Wezterm – A GPU-accelerated cross-platform terminal emulator and multiplexer (github.com/wez)\n",
      "        158 points by yagizdegirmenci 12 hours ago  | hide | 95 comments              \n",
      "      \n",
      "                \n",
      "      19.      By 2012, scientists will have announced a cure for breast cancer (2006-2012) (longbets.org)\n",
      "        31 points by breck 6 hours ago  | hide | 37 comments              \n",
      "      \n",
      "                \n",
      "      20.      The sixtyforgan: Commodore 64 equipped with a spring reverb (linusakesson.net)\n",
      "        201 points by sohkamyung 15 hours ago  | hide | 35 comments              \n",
      "      \n",
      "                \n",
      "      21.      On “Getting” Poetry (newcriterion.com)\n",
      "        24 points by apollinaire 5 hours ago  | hide | 22 comments              \n",
      "      \n",
      "                \n",
      "      22.      Don’t use environment variables for configuration (nibblestew.blogspot.com)\n",
      "        32 points by ingve 7 hours ago  | hide | 60 comments              \n",
      "      \n",
      "                \n",
      "      23.      Beach High School (cruzio.com)\n",
      "        169 points by PebblesRox 14 hours ago  | hide | 66 comments              \n",
      "      \n",
      "                \n",
      "      24.      Clubhouse clones are coming (philsiarri.medium.com)\n",
      "        50 points by finphil 8 hours ago  | hide | 57 comments              \n",
      "      \n",
      "                \n",
      "      25.      Ask HN: Best low-/no-code solution for simple web-based database frontends\n",
      "        75 points by codechoir 4 hours ago  | hide | 36 comments              \n",
      "      \n",
      "                \n",
      "      26.      Kepler's Goat Herd: An Exact Solution for Elliptical Orbit Evolution (arxiv.org)\n",
      "        45 points by mkoc 10 hours ago  | hide | 7 comments              \n",
      "      \n",
      "                \n",
      "      27.      Google is accelerating reopening of offices and putting limits on remote work (cnbc.com)\n",
      "        278 points by richardknop 14 hours ago  | hide | 426 comments              \n",
      "      \n",
      "                \n",
      "      28.      Retrospective: An Axiomatic Basis for Computer Programming (acm.org)\n",
      "        37 points by todsacerdoti 11 hours ago  | hide | 3 comments              \n",
      "      \n",
      "                \n",
      "      29.      Humans display a few consistent behavioral phenotypes in two player games (2016) (advances.sciencemag.org)\n",
      "        56 points by tjalfi 10 hours ago  | hide | 13 comments              \n",
      "      \n",
      "                \n",
      "      30.      Jump in cancer diagnoses at 65 implies patients wait for Medicare: study (stanford.edu)\n",
      "        508 points by hardtke 14 hours ago  | hide | 462 comments              \n",
      "      \n",
      "            More\n",
      "  \n",
      "\n",
      "Guidelines\n",
      "        | FAQ\n",
      "        | Lists\n",
      "        | API\n",
      "        | Security\n",
      "        | Legal\n",
      "        | Apply to YC\n",
      "        | ContactSearch:\n",
      "          \n",
      "            \n",
      "      \n",
      "\n"
     ]
    }
   ],
   "source": [
    "from bs4 import BeautifulSoup\n",
    "\n",
    "# Remove HTML tags using Beautiful Soup library\n",
    "soup = BeautifulSoup(r.text, \"html5lib\")\n",
    "print(soup.get_text())"
   ]
  },
  {
   "cell_type": "code",
   "execution_count": 7,
   "metadata": {
    "scrolled": true
   },
   "outputs": [
    {
     "data": {
      "text/plain": [
       "<tr class=\"athing\" id=\"26659150\">\n",
       "      <td align=\"right\" class=\"title\" valign=\"top\"><span class=\"rank\">1.</span></td>      <td class=\"votelinks\" valign=\"top\"><center><a href=\"vote?id=26659150&amp;how=up&amp;goto=news\" id=\"up_26659150\"><div class=\"votearrow\" title=\"upvote\"></div></a></center></td><td class=\"title\"><a class=\"storylink\" href=\"https://www.fxtec.com/pro1x\">Pro¹X: A Linux smartphone with slideout keyboard</a><span class=\"sitebit comhead\"> (<a href=\"from?site=fxtec.com\"><span class=\"sitestr\">fxtec.com</span></a>)</span></td></tr>"
      ]
     },
     "execution_count": 7,
     "metadata": {},
     "output_type": "execute_result"
    }
   ],
   "source": [
    "# Find all articles\n",
    "summaries = soup.find_all(\"tr\", class_=\"athing\")\n",
    "summaries[0]"
   ]
  },
  {
   "cell_type": "code",
   "execution_count": 8,
   "metadata": {},
   "outputs": [
    {
     "data": {
      "text/plain": [
       "'Pro¹X: A Linux smartphone with slideout keyboard'"
      ]
     },
     "execution_count": 8,
     "metadata": {},
     "output_type": "execute_result"
    }
   ],
   "source": [
    "# Extract title\n",
    "summaries[0].find(\"a\", class_=\"storylink\").get_text().strip()"
   ]
  },
  {
   "cell_type": "code",
   "execution_count": 9,
   "metadata": {},
   "outputs": [
    {
     "name": "stdout",
     "output_type": "stream",
     "text": [
      "30 Article summaries found. Sample:\n",
      "Pro¹X: A Linux smartphone with slideout keyboard\n"
     ]
    }
   ],
   "source": [
    "# Find all articles, extract titles\n",
    "articles = []\n",
    "summaries = soup.find_all(\"tr\", class_=\"athing\")\n",
    "for summary in summaries:\n",
    "    title = summary.find(\"a\", class_=\"storylink\").get_text().strip()\n",
    "    articles.append((title))\n",
    "\n",
    "print(len(articles), \"Article summaries found. Sample:\")\n",
    "print(articles[0])"
   ]
  },
  {
   "cell_type": "markdown",
   "metadata": {
    "collapsed": true
   },
   "source": [
    "## Normalization"
   ]
  },
  {
   "cell_type": "markdown",
   "metadata": {},
   "source": [
    "### Case Normalization"
   ]
  },
  {
   "cell_type": "code",
   "execution_count": 10,
   "metadata": {},
   "outputs": [
    {
     "name": "stdout",
     "output_type": "stream",
     "text": [
      "The first time you see The Second Renaissance it may look boring. Look at it at least twice and definitely watch part 2. It will change your view of the matrix. Are the human people the ones who started the war ? Is AI a bad thing ?\n"
     ]
    }
   ],
   "source": [
    "# Sample text\n",
    "text = \"The first time you see The Second Renaissance it may look boring. Look at it at least twice and definitely watch part 2. It will change your view of the matrix. Are the human people the ones who started the war ? Is AI a bad thing ?\"\n",
    "print(text)"
   ]
  },
  {
   "cell_type": "code",
   "execution_count": 11,
   "metadata": {},
   "outputs": [
    {
     "name": "stdout",
     "output_type": "stream",
     "text": [
      "the first time you see the second renaissance it may look boring. look at it at least twice and definitely watch part 2. it will change your view of the matrix. are the human people the ones who started the war ? is ai a bad thing ?\n"
     ]
    }
   ],
   "source": [
    "# Convert to lowercase\n",
    "text = text.lower() \n",
    "print(text)"
   ]
  },
  {
   "cell_type": "markdown",
   "metadata": {},
   "source": [
    "### Punctuation Removal"
   ]
  },
  {
   "cell_type": "code",
   "execution_count": 12,
   "metadata": {},
   "outputs": [
    {
     "name": "stdout",
     "output_type": "stream",
     "text": [
      "the first time you see the second renaissance it may look boring  look at it at least twice and definitely watch part 2  it will change your view of the matrix  are the human people the ones who started the war   is ai a bad thing  \n"
     ]
    }
   ],
   "source": [
    "import re\n",
    "\n",
    "# Remove punctuation characters\n",
    "text = re.sub(r\"[^a-zA-Z0-9]\", \" \", text) \n",
    "print(text)"
   ]
  },
  {
   "cell_type": "markdown",
   "metadata": {},
   "source": [
    "## Tokenization"
   ]
  },
  {
   "cell_type": "code",
   "execution_count": 13,
   "metadata": {},
   "outputs": [
    {
     "name": "stdout",
     "output_type": "stream",
     "text": [
      "['the', 'first', 'time', 'you', 'see', 'the', 'second', 'renaissance', 'it', 'may', 'look', 'boring', 'look', 'at', 'it', 'at', 'least', 'twice', 'and', 'definitely', 'watch', 'part', '2', 'it', 'will', 'change', 'your', 'view', 'of', 'the', 'matrix', 'are', 'the', 'human', 'people', 'the', 'ones', 'who', 'started', 'the', 'war', 'is', 'ai', 'a', 'bad', 'thing']\n"
     ]
    }
   ],
   "source": [
    "# Split text into tokens (words)\n",
    "words = text.split()\n",
    "print(words)"
   ]
  },
  {
   "cell_type": "markdown",
   "metadata": {},
   "source": [
    "### NLTK: Natural Language ToolKit"
   ]
  },
  {
   "cell_type": "code",
   "execution_count": 14,
   "metadata": {},
   "outputs": [],
   "source": [
    "import os\n",
    "import nltk\n",
    "nltk.data.path.append(os.path.join(os.getcwd(), \"nltk_data\"))"
   ]
  },
  {
   "cell_type": "code",
   "execution_count": 15,
   "metadata": {},
   "outputs": [
    {
     "name": "stdout",
     "output_type": "stream",
     "text": [
      "Dr. Smith graduated from the University of Washington. He later started an analytics firm called Lux, which catered to enterprise customers.\n"
     ]
    }
   ],
   "source": [
    "# Another sample text\n",
    "text = \"Dr. Smith graduated from the University of Washington. He later started an analytics firm called Lux, which catered to enterprise customers.\"\n",
    "print(text)"
   ]
  },
  {
   "cell_type": "code",
   "execution_count": 16,
   "metadata": {},
   "outputs": [
    {
     "name": "stdout",
     "output_type": "stream",
     "text": [
      "['Dr.', 'Smith', 'graduated', 'from', 'the', 'University', 'of', 'Washington', '.', 'He', 'later', 'started', 'an', 'analytics', 'firm', 'called', 'Lux', ',', 'which', 'catered', 'to', 'enterprise', 'customers', '.']\n"
     ]
    }
   ],
   "source": [
    "from nltk.tokenize import word_tokenize\n",
    "\n",
    "# Split text into words using NLTK\n",
    "words = word_tokenize(text)\n",
    "print(words)"
   ]
  },
  {
   "cell_type": "code",
   "execution_count": 17,
   "metadata": {},
   "outputs": [
    {
     "name": "stdout",
     "output_type": "stream",
     "text": [
      "['Dr. Smith graduated from the University of Washington.', 'He later started an analytics firm called Lux, which catered to enterprise customers.']\n"
     ]
    }
   ],
   "source": [
    "from nltk.tokenize import sent_tokenize\n",
    "\n",
    "# Split text into sentences\n",
    "sentences = sent_tokenize(text)\n",
    "print(sentences)"
   ]
  },
  {
   "cell_type": "code",
   "execution_count": 18,
   "metadata": {},
   "outputs": [
    {
     "name": "stdout",
     "output_type": "stream",
     "text": [
      "['i', 'me', 'my', 'myself', 'we', 'our', 'ours', 'ourselves', 'you', \"you're\", \"you've\", \"you'll\", \"you'd\", 'your', 'yours', 'yourself', 'yourselves', 'he', 'him', 'his', 'himself', 'she', \"she's\", 'her', 'hers', 'herself', 'it', \"it's\", 'its', 'itself', 'they', 'them', 'their', 'theirs', 'themselves', 'what', 'which', 'who', 'whom', 'this', 'that', \"that'll\", 'these', 'those', 'am', 'is', 'are', 'was', 'were', 'be', 'been', 'being', 'have', 'has', 'had', 'having', 'do', 'does', 'did', 'doing', 'a', 'an', 'the', 'and', 'but', 'if', 'or', 'because', 'as', 'until', 'while', 'of', 'at', 'by', 'for', 'with', 'about', 'against', 'between', 'into', 'through', 'during', 'before', 'after', 'above', 'below', 'to', 'from', 'up', 'down', 'in', 'out', 'on', 'off', 'over', 'under', 'again', 'further', 'then', 'once', 'here', 'there', 'when', 'where', 'why', 'how', 'all', 'any', 'both', 'each', 'few', 'more', 'most', 'other', 'some', 'such', 'no', 'nor', 'not', 'only', 'own', 'same', 'so', 'than', 'too', 'very', 's', 't', 'can', 'will', 'just', 'don', \"don't\", 'should', \"should've\", 'now', 'd', 'll', 'm', 'o', 're', 've', 'y', 'ain', 'aren', \"aren't\", 'couldn', \"couldn't\", 'didn', \"didn't\", 'doesn', \"doesn't\", 'hadn', \"hadn't\", 'hasn', \"hasn't\", 'haven', \"haven't\", 'isn', \"isn't\", 'ma', 'mightn', \"mightn't\", 'mustn', \"mustn't\", 'needn', \"needn't\", 'shan', \"shan't\", 'shouldn', \"shouldn't\", 'wasn', \"wasn't\", 'weren', \"weren't\", 'won', \"won't\", 'wouldn', \"wouldn't\"]\n"
     ]
    }
   ],
   "source": [
    "# List stop words\n",
    "from nltk.corpus import stopwords\n",
    "print(stopwords.words(\"english\"))"
   ]
  },
  {
   "cell_type": "code",
   "execution_count": 19,
   "metadata": {},
   "outputs": [
    {
     "name": "stdout",
     "output_type": "stream",
     "text": [
      "['the', 'first', 'time', 'you', 'see', 'the', 'second', 'renaissance', 'it', 'may', 'look', 'boring', 'look', 'at', 'it', 'at', 'least', 'twice', 'and', 'definitely', 'watch', 'part', '2', 'it', 'will', 'change', 'your', 'view', 'of', 'the', 'matrix', 'are', 'the', 'human', 'people', 'the', 'ones', 'who', 'started', 'the', 'war', 'is', 'ai', 'a', 'bad', 'thing']\n"
     ]
    }
   ],
   "source": [
    "# Reset text\n",
    "text = \"The first time you see The Second Renaissance it may look boring. Look at it at least twice and definitely watch part 2. It will change your view of the matrix. Are the human people the ones who started the war ? Is AI a bad thing ?\"\n",
    "\n",
    "# Normalize it\n",
    "text = re.sub(r\"[^a-zA-Z0-9]\", \" \", text.lower())\n",
    "\n",
    "# Tokenize it\n",
    "words = text.split()\n",
    "print(words)"
   ]
  },
  {
   "cell_type": "code",
   "execution_count": 20,
   "metadata": {},
   "outputs": [
    {
     "name": "stdout",
     "output_type": "stream",
     "text": [
      "['first', 'time', 'see', 'second', 'renaissance', 'may', 'look', 'boring', 'look', 'least', 'twice', 'definitely', 'watch', 'part', '2', 'change', 'view', 'matrix', 'human', 'people', 'ones', 'started', 'war', 'ai', 'bad', 'thing']\n"
     ]
    }
   ],
   "source": [
    "# Remove stop words\n",
    "words = [w for w in words if w not in stopwords.words(\"english\")]\n",
    "print(words)"
   ]
  },
  {
   "cell_type": "markdown",
   "metadata": {},
   "source": [
    "### Sentence Parsing"
   ]
  },
  {
   "cell_type": "code",
   "execution_count": 21,
   "metadata": {},
   "outputs": [
    {
     "name": "stdout",
     "output_type": "stream",
     "text": [
      "(S\n",
      "  (NP I)\n",
      "  (VP\n",
      "    (VP (V shot) (NP (Det an) (N elephant)))\n",
      "    (PP (P in) (NP (Det my) (N pajamas)))))\n",
      "(S\n",
      "  (NP I)\n",
      "  (VP\n",
      "    (V shot)\n",
      "    (NP (Det an) (N elephant) (PP (P in) (NP (Det my) (N pajamas))))))\n"
     ]
    }
   ],
   "source": [
    "import nltk\n",
    "\n",
    "# Define a custom grammar\n",
    "my_grammar = nltk.CFG.fromstring(\"\"\"\n",
    "S -> NP VP\n",
    "PP -> P NP\n",
    "NP -> Det N | Det N PP | 'I'\n",
    "VP -> V NP | VP PP\n",
    "Det -> 'an' | 'my'\n",
    "N -> 'elephant' | 'pajamas'\n",
    "V -> 'shot'\n",
    "P -> 'in'\n",
    "\"\"\")\n",
    "parser = nltk.ChartParser(my_grammar)\n",
    "\n",
    "# Parse a sentence\n",
    "sentence = word_tokenize(\"I shot an elephant in my pajamas\")\n",
    "for tree in parser.parse(sentence):\n",
    "    print(tree)"
   ]
  },
  {
   "cell_type": "markdown",
   "metadata": {},
   "source": [
    "## Stemming & Lemmatization\n",
    "\n",
    "### Stemming"
   ]
  },
  {
   "cell_type": "code",
   "execution_count": 22,
   "metadata": {},
   "outputs": [
    {
     "name": "stdout",
     "output_type": "stream",
     "text": [
      "['first', 'time', 'see', 'second', 'renaiss', 'may', 'look', 'bore', 'look', 'least', 'twice', 'definit', 'watch', 'part', '2', 'chang', 'view', 'matrix', 'human', 'peopl', 'one', 'start', 'war', 'ai', 'bad', 'thing']\n"
     ]
    }
   ],
   "source": [
    "from nltk.stem.porter import PorterStemmer\n",
    "\n",
    "# Reduce words to their stems\n",
    "stemmed = [PorterStemmer().stem(w) for w in words]\n",
    "print(stemmed)"
   ]
  },
  {
   "cell_type": "markdown",
   "metadata": {},
   "source": [
    "### Lemmatization"
   ]
  },
  {
   "cell_type": "code",
   "execution_count": null,
   "metadata": {},
   "outputs": [],
   "source": [
    "from nltk.stem.wordnet import WordNetLemmatizer\n",
    "\n",
    "# Reduce words to their root form\n",
    "lemmed = [WordNetLemmatizer().lemmatize(w) for w in words]\n",
    "print(lemmed)"
   ]
  },
  {
   "cell_type": "code",
   "execution_count": null,
   "metadata": {},
   "outputs": [],
   "source": [
    "# Lemmatize verbs by specifying pos\n",
    "lemmed = [WordNetLemmatizer().lemmatize(w, pos='v') for w in lemmed]\n",
    "print(lemmed)"
   ]
  },
  {
   "cell_type": "code",
   "execution_count": null,
   "metadata": {},
   "outputs": [],
   "source": []
  }
 ],
 "metadata": {
  "kernelspec": {
   "display_name": "Python 3",
   "language": "python",
   "name": "python3"
  },
  "language_info": {
   "codemirror_mode": {
    "name": "ipython",
    "version": 3
   },
   "file_extension": ".py",
   "mimetype": "text/x-python",
   "name": "python",
   "nbconvert_exporter": "python",
   "pygments_lexer": "ipython3",
   "version": "3.6.3"
  }
 },
 "nbformat": 4,
 "nbformat_minor": 2
}
